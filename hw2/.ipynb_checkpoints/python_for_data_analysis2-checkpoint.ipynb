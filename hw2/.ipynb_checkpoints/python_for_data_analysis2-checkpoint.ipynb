{
 "cells": [
  {
   "cell_type": "markdown",
   "metadata": {},
   "source": [
    "# データマイニング入門\n",
    "# Pythonの基礎"
   ]
  },
  {
   "cell_type": "markdown",
   "metadata": {},
   "source": [
    "## pandasライブラリ\n",
    "**pandas**ライブラリにはデータ分析作業を支援するためのモジュールが含まれています。以下では、pandasライブラリのモジュールの基本的な使い方について説明します。\n",
    "\n",
    "pandasライブラリを使用するには、まず`pandas`モジュールをインポートします。慣例として、同モジュールを`pd`と別名をつけてコードの中で使用します。"
   ]
  },
  {
   "cell_type": "code",
   "execution_count": null,
   "metadata": {},
   "outputs": [],
   "source": [
    "import pandas as pd"
   ]
  },
  {
   "cell_type": "markdown",
   "metadata": {},
   "source": [
    "## シリーズとデータフレーム\n",
    "pandasは、リストや辞書などのデータを**シリーズ**(**Series**)あるいは**データフレーム**(**DataFrame**)のオブジェクトとして保持します。シリーズは列、データフレームは複数の列で構成されます。シリーズやデータフレームの行は**インデックス**`index`で管理され、インデックスには0から始まる番号、または任意のラベルが付けられています。シリーズやデータフレームは、インデックスをキー、各行を値とした辞書とみなすことができます。"
   ]
  },
  {
   "cell_type": "markdown",
   "metadata": {},
   "source": [
    "## シリーズ（Series）の作成\n",
    "シリーズのオブジェクトは、以下のように、リストや辞書から作成することができます。また、Numpyの配列からもシリーズやオブジェクトを作成することができます。"
   ]
  },
  {
   "cell_type": "code",
   "execution_count": null,
   "metadata": {},
   "outputs": [],
   "source": [
    "# リストからシリーズの作成\n",
    "s1 = pd.Series([0,1,2,3,4,5])\n",
    "print(s1)\n",
    "\n",
    "# 辞書からシリーズの作成\n",
    "s2 = pd.Series({0:'boo',1:'foo',2:'woo'})\n",
    "print(s2)"
   ]
  },
  {
   "cell_type": "markdown",
   "metadata": {},
   "source": [
    "以下では、シリーズ（列）より一般的なデータフレームの操作と機能について説明していきますが、データフレームオブジェクトの多くの操作や機能はシリーズオブジェクトにも適用できます。"
   ]
  },
  {
   "cell_type": "markdown",
   "metadata": {},
   "source": [
    "## データフレーム（DataFrame）の作成\n",
    "データフレームのオブジェクトは、以下のように、リストや辞書、NumPyの配列から作成することができます。行のラベルは、`DataFrame`の`index`引数で指定できますが、以下のデータフレーム作成の例、d2, では同インデックスを省略しているため、０から始まるインデックス番号がラベルとして行に自動的に付けられます。列のラベルは`columns`引数で指定します。辞書からデータフレームを作成する際は、`columns`引数で列の順番を指定することになります。"
   ]
  },
  {
   "cell_type": "code",
   "execution_count": null,
   "metadata": {},
   "outputs": [],
   "source": [
    "# 多次元リストからデータフレームの作成\n",
    "d1 = pd.DataFrame([[0,1,2],[3,4,5],[6,7,8],[9,10,11]], index=[10,11,12,13], columns=['c1','c2','c3'])\n",
    "print(d1)\n",
    "\n",
    "# 辞書からデータフレームの作成\n",
    "d2 = pd.DataFrame({'Initial':['B','F','W'], 'Name':['boo', 'foo', 'woo']}, columns=['Name','Initial'])\n",
    "print(d2)"
   ]
  },
  {
   "cell_type": "markdown",
   "metadata": {},
   "source": [
    "## csvファイルからのデータフレームの作成\n",
    "`pandas`の`read_csv()`関数を用いて、以下のように**csvファイル**を読み込んで、データフレームのオブジェクトを作成することができます。`read_csv()`関数の`encoding`引数にはファイルの文字コードを指定します。csvファイル\"simple_score.csv\"には、以下のようにuserのID(user)、国語の点数（kokugo）、社会の点数（shakai）、数学の点数（sugaku）、理科の点数（rika）のデータが1行ずつ含まれています。\n",
    "```Python\n",
    "## simple_score.csv\n",
    "user, kokugo, shakai, sugaku, rika\n",
    "1, 30, 43, 51, 63\n",
    "2, 39, 21, 49, 56\n",
    "...\n",
    "```\n",
    "`head()`関数を使うとデータフレームの先頭の複数行を表示させることができます。引数には表示させたい行数を指定し、行数を指定しない場合は、5行分のデータが表示されます。"
   ]
  },
  {
   "cell_type": "code",
   "execution_count": null,
   "metadata": {},
   "outputs": [],
   "source": [
    "# csvファイルの読み込み\n",
    "df = pd.read_csv('simple_score.csv')\n",
    "\n",
    "# 先頭3行のデータを表示\n",
    "df.head(3)"
   ]
  },
  {
   "cell_type": "markdown",
   "metadata": {},
   "source": [
    "データフレームオブジェクトの`index`属性により、データフレームのインデックスの情報が確認できます。`len()`関数を用いると、データフレームの行数が取得できます。"
   ]
  },
  {
   "cell_type": "code",
   "execution_count": null,
   "metadata": {},
   "outputs": [],
   "source": [
    "print(df.index) #インデックスの情報\n",
    "len(df.index) #インデックスの長さ"
   ]
  },
  {
   "cell_type": "markdown",
   "metadata": {},
   "source": [
    "## データの参照\n",
    "シリーズやデータフレームでは、行の位置（行は0から始まります）を**スライス**として指定することで任意の行を抽出することができます。"
   ]
  },
  {
   "cell_type": "code",
   "execution_count": null,
   "metadata": {},
   "outputs": [],
   "source": [
    "# データフレームの先頭3行のデータ\n",
    "df[:3]"
   ]
  },
  {
   "cell_type": "markdown",
   "metadata": {},
   "source": [
    "## 練習\n",
    "データフレーム`df`の終端2行のデータをスライスを使って抽出してください"
   ]
  },
  {
   "cell_type": "code",
   "execution_count": null,
   "metadata": {},
   "outputs": [],
   "source": []
  },
  {
   "cell_type": "markdown",
   "metadata": {},
   "source": [
    "データフレームから任意の列を抽出するには、`DataFrame.列名`のように、データフレームオブジェクトに'.'で列名をつなげることで、その列を指定してシリーズオブジェクトとして抽出することができます。なお、列名を文字列として、`DataFrame['列名']`のように添字指定しても同様です。"
   ]
  },
  {
   "cell_type": "code",
   "execution_count": null,
   "metadata": {},
   "outputs": [],
   "source": [
    "# データフレームの'sugaku'の列の先頭3行のデータ\n",
    "df['sugaku'].head(3)"
   ]
  },
  {
   "cell_type": "markdown",
   "metadata": {},
   "source": [
    "データフレームの添字として、列名のリストを指定すると複数の列をデータフレームオブジェクトとして抽出することができます。"
   ]
  },
  {
   "cell_type": "code",
   "execution_count": null,
   "metadata": {},
   "outputs": [],
   "source": [
    "# データフレームの'user'と'sugaku'の列の先頭3行のデータ\n",
    "df[['user','sugaku']].head(3)"
   ]
  },
  {
   "cell_type": "markdown",
   "metadata": {},
   "source": [
    "## 練習\n",
    "データフレーム`df`の'user'と'rika'の列の先頭3行のデータを抽出してください"
   ]
  },
  {
   "cell_type": "code",
   "execution_count": null,
   "metadata": {},
   "outputs": [],
   "source": []
  },
  {
   "cell_type": "markdown",
   "metadata": {},
   "source": [
    "### ilocとloc\n",
    "データフレームオブジェクトの**`iloc`**属性を用いると、行と列の位置を指定して任意の行と列を抽出することができます。"
   ]
  },
  {
   "cell_type": "code",
   "execution_count": null,
   "metadata": {},
   "outputs": [],
   "source": [
    "# データフレームの2行目のデータ\n",
    "df.iloc[1]"
   ]
  },
  {
   "cell_type": "code",
   "execution_count": null,
   "metadata": {},
   "outputs": [],
   "source": [
    "# データフレームの2行,2列目のデータ\n",
    "df.iloc[1, 1]"
   ]
  },
  {
   "cell_type": "code",
   "execution_count": null,
   "metadata": {},
   "outputs": [],
   "source": [
    "# データフレームの1から2行目,1から2列目のデータ\n",
    "df.iloc[0:2, 0:2]"
   ]
  },
  {
   "cell_type": "markdown",
   "metadata": {},
   "source": [
    "データフレームオブジェクトの**`loc`**属性を用いると、抽出したい行のインデックス・ラベルや列のラベルを指定して任意の行と列を抽出することができます。複数のラベルはリストで指定します。行のインデックスは各行に割当てられた番号で、`iloc`で指定する行の位置とは必ずしも一致しないことに注意してください。"
   ]
  },
  {
   "cell_type": "code",
   "execution_count": null,
   "metadata": {},
   "outputs": [],
   "source": [
    "# データフレームの行インデックス1のデータ\n",
    "df.loc[1]"
   ]
  },
  {
   "cell_type": "code",
   "execution_count": null,
   "metadata": {},
   "outputs": [],
   "source": [
    "# データフレームの行インデックス2と'sugakuと列のデータ\n",
    "df.loc[2, 'sugaku']"
   ]
  },
  {
   "cell_type": "code",
   "execution_count": null,
   "metadata": {},
   "outputs": [],
   "source": [
    "# データフレームの行インデックス0から1と'user'と'kokugo'の列のデータ\n",
    "df.loc[0:1, ['user','sugaku']]"
   ]
  },
  {
   "cell_type": "markdown",
   "metadata": {},
   "source": [
    "## 練習\n",
    "データフレーム`df`の3から4行目,1列目と5列目のデータを`iloc`, `loc`それぞれを使って抽出してください"
   ]
  },
  {
   "cell_type": "code",
   "execution_count": null,
   "metadata": {},
   "outputs": [],
   "source": []
  },
  {
   "cell_type": "markdown",
   "metadata": {},
   "source": [
    "## データの条件取り出し\n",
    "データフレームの列の指定と併せて条件を指定することで、条件にあった行からなるデータフレームを抽出することができます。条件式のブール演算では、`and`、`or`、`not`の代わりに`&`、`|`、`~`を用います。"
   ]
  },
  {
   "cell_type": "code",
   "execution_count": null,
   "metadata": {},
   "outputs": [],
   "source": [
    "# データフレームの'sugaku'列の値が50より大きく、'rika'列の値が50より大きいデータ\n",
    "df[(df['sugaku'] > 50) & (df['rika'] > 50)]"
   ]
  },
  {
   "cell_type": "markdown",
   "metadata": {},
   "source": [
    "## 練習\n",
    "データフレーム`df`から`kokugo`と`shakai`がどちらとも50点以上でのデータを抽出してください"
   ]
  },
  {
   "cell_type": "code",
   "execution_count": null,
   "metadata": {},
   "outputs": [],
   "source": []
  },
  {
   "cell_type": "markdown",
   "metadata": {},
   "source": [
    "## 列の追加と削除\n",
    "データフレームに列を追加する場合は、以下のように、追加したい新たな列名を指定し、シリーズ、リストやNumPyの配列を代入すると新たな列を追加できます。"
   ]
  },
  {
   "cell_type": "code",
   "execution_count": null,
   "metadata": {},
   "outputs": [],
   "source": [
    "# データフレームに'eigo'という列を追加\n",
    "df['eigo']=[50,50,60,60,60]\n",
    "\n",
    "# データフレームに'ongaku'という列を追加\n",
    "df['ongaku']=pd.Series([40,50,60,70,80])\n",
    "df"
   ]
  },
  {
   "cell_type": "markdown",
   "metadata": {},
   "source": [
    "**`del`**ステートメントを用いると、以下のようにデータフレームから任意の列を削除できます。"
   ]
  },
  {
   "cell_type": "code",
   "execution_count": null,
   "metadata": {},
   "outputs": [],
   "source": [
    "# データフレームから'ongaku'という列を削除\n",
    "del df['ongaku']\n",
    "df"
   ]
  },
  {
   "cell_type": "markdown",
   "metadata": {},
   "source": [
    "**`assign`**`()`メソッドを用いると、追加したい列名とその値を指定することで、以下のように新たな列を追加したデータフレームを新たに作成することができます。この際、元のデータフレームは変更されないことに注意してください。"
   ]
  },
  {
   "cell_type": "code",
   "execution_count": null,
   "metadata": {},
   "outputs": [],
   "source": [
    "# データフレームに'mycolumn'という列を追加し新しいデータフレームを作成\n",
    "df1 = df.assign(ongaku=pd.Series([40,50,60,70,80]))\n",
    "df1"
   ]
  },
  {
   "cell_type": "markdown",
   "metadata": {},
   "source": [
    "**`drop`**`()`メソッドを用いると、削除したい列名を指定することで、以下のように任意の列を削除したデータフレームを新たに作成することができます。列を削除する場合は、`axis`引数に1を指定します。この際、元のデータフレームは変更されないことに注意してください。"
   ]
  },
  {
   "cell_type": "code",
   "execution_count": null,
   "metadata": {},
   "outputs": [],
   "source": [
    "# データフレームから'mycolumn'という列を削除し、新しいデータフレームを作成\n",
    "df2 = df1.drop('ongaku',axis=1)\n",
    "df2"
   ]
  },
  {
   "cell_type": "markdown",
   "metadata": {},
   "source": [
    "## 練習\n",
    "データフレーム`df2`に新たな列を追加して新しいデータフレームを作成してください"
   ]
  },
  {
   "cell_type": "code",
   "execution_count": null,
   "metadata": {},
   "outputs": [],
   "source": []
  },
  {
   "cell_type": "markdown",
   "metadata": {},
   "source": [
    "## 行の追加と削除\n",
    "`pandas`モジュールの**`append`**`()`関数を用いると、元のデータフレームに新たな行を追加した新たなデータフレームを作成することができます。以下では、`df`データフレームの最終行に新たな行を追加し、新たなデータフレームを作成しています。`ignore_index`引数をTrueにすると追加した行に新たなインデックス番号がつけられます。"
   ]
  },
  {
   "cell_type": "code",
   "execution_count": null,
   "metadata": {},
   "outputs": [],
   "source": [
    "# 追加する行のデータフレーム\n",
    "row = pd.DataFrame([[6,10,20,30,40,50]], columns=df.columns)\n",
    "\n",
    "# データフレームに行を追加し新しいデータフレームを作成\n",
    "df3 = df.append(row, ignore_index=True)\n",
    "df3"
   ]
  },
  {
   "cell_type": "markdown",
   "metadata": {},
   "source": [
    "**`drop`**`()`メソッドを用いると、行のインデックスまたはラベルを指定することで行を削除することもできます。この時に、`axis`引数は省略することができます。"
   ]
  },
  {
   "cell_type": "code",
   "execution_count": null,
   "metadata": {},
   "outputs": [],
   "source": [
    "# データフレームから行インデックス5の行を削除し、新しいデータフレームを作成\n",
    "df4 = df3.drop(5)\n",
    "df4"
   ]
  },
  {
   "cell_type": "markdown",
   "metadata": {},
   "source": [
    "## 練習\n",
    "データフレーム`df4`に新たな行を追加して新しいデータフレームを作成してください"
   ]
  },
  {
   "cell_type": "code",
   "execution_count": null,
   "metadata": {},
   "outputs": [],
   "source": []
  },
  {
   "cell_type": "markdown",
   "metadata": {},
   "source": [
    "## データの並び替え\n",
    "データフレームオブジェクトの**`sort_index()`**メソッドで、データフレームのインデックスに基づくソートができます。また、**`sort_values()`**メソッドで、任意の列の値によるソートができます。列は複数指定することもできます。いずれのメソッドでも、`inplace`引数により、ソートにより新しいデータフレームを作成する（False）か、元のデータフレームを更新する（True)を指定できます。デフォルトは`inplace`はFalseになっており、`sort_index()`メソッドは新しいデータフレームを作成します。"
   ]
  },
  {
   "cell_type": "code",
   "execution_count": null,
   "metadata": {},
   "outputs": [],
   "source": [
    "# データフレームの2つ列の値に基づいて昇順にソート\n",
    "df5 = df.sort_values(['eigo', 'sugaku'])\n",
    "df5"
   ]
  },
  {
   "cell_type": "markdown",
   "metadata": {},
   "source": [
    "列の値で降順にソートする場合は、`sort_values()`メソッドの`ascending`引数をFalseにしてください。"
   ]
  },
  {
   "cell_type": "code",
   "execution_count": null,
   "metadata": {},
   "outputs": [],
   "source": [
    "# データフレームの2つ列の値に基づいて降順にソート\n",
    "df6 = df.sort_values(['eigo', 'sugaku'],ascending=False)\n",
    "df6"
   ]
  },
  {
   "cell_type": "markdown",
   "metadata": {},
   "source": [
    "## 練習\n",
    "データフレーム`df6`を`eigo`と`rika`の列の値に基づいて降順に並び替えて新しいデータフレーム作成してください"
   ]
  },
  {
   "cell_type": "code",
   "execution_count": null,
   "metadata": {},
   "outputs": [],
   "source": []
  },
  {
   "cell_type": "markdown",
   "metadata": {},
   "source": [
    "## データの統計量\n",
    "データフレームオブジェクトの**`describe()`**メソッドで、データフレームの各列の要約統計量を求めることができます。要約統計量には平均、標準偏差、最大値、最小値などが含まれます。その他の統計量を求める`pandas`モジュールのメソッドは以下を参照してください。\n",
    "\n",
    "[pandasでの統計量計算](https://pandas.pydata.org/pandas-docs/stable/api.html#api-dataframe-stats)"
   ]
  },
  {
   "cell_type": "code",
   "execution_count": null,
   "metadata": {},
   "outputs": [],
   "source": [
    "# データフレームの各数値列の要約統計量を表示\n",
    "df.describe()"
   ]
  },
  {
   "cell_type": "markdown",
   "metadata": {},
   "source": [
    "## 練習\n",
    "データフレーム`df`の各列ごと値の和を求めてください"
   ]
  },
  {
   "cell_type": "code",
   "execution_count": null,
   "metadata": {},
   "outputs": [],
   "source": []
  },
  {
   "cell_type": "markdown",
   "metadata": {},
   "source": [
    "## データの連結\n",
    "`pandas`モジュールの**`concat`**`()`関数を用いると、データフレームを連結して新たなデータフレームを作成することができます。以下では、`df`データフレームの先頭2行と最終2行を連結して、新しいデータフレームを作成しています。"
   ]
  },
  {
   "cell_type": "code",
   "execution_count": null,
   "metadata": {},
   "outputs": [],
   "source": [
    "# データフレームの先頭2行と最終2行を連結\n",
    "concat_row_df = pd.concat([df[:2],df[-2:]])\n",
    "concat_row_df"
   ]
  },
  {
   "cell_type": "markdown",
   "metadata": {},
   "source": [
    "`concat()`関数の`axis`引数に1を指定すると、以下のように、データフレームを列方向にすることができます。"
   ]
  },
  {
   "cell_type": "code",
   "execution_count": null,
   "metadata": {},
   "outputs": [],
   "source": [
    "# データフレームの'user'列と'sugaku'列を連結\n",
    "concat_column_df = pd.concat([df.loc[:, ['user']],df.loc[:, ['sugaku']]], axis=1)\n",
    "concat_column_df.head(10)"
   ]
  },
  {
   "cell_type": "markdown",
   "metadata": {},
   "source": [
    "## データの結合\n",
    "`pandas`モジュールの**`merge`**`()`関数を用いると、任意の列の値をキーとして異なるデータフレームを結合することができます。結合のキーとする列名は`on`引数で指定します。以下では、まずデータフレーム`user_df`を作成し、2つのデータフレーム、`user_df`と`df`、に共通の'user'の列の値をキーに、2つのデータフレームを結合して新しいデータフレーム`score_df`を作成しています。"
   ]
  },
  {
   "cell_type": "code",
   "execution_count": null,
   "metadata": {},
   "outputs": [],
   "source": [
    "user_df = pd.DataFrame({'user':[1,2,3,4,5], 'name':['Paul', 'John', 'Ringo','Georgi','Yoko'],\\\n",
    "                        'class':['A', 'A', 'A','B','B']}, \\\n",
    "                        columns=['user','name', 'class'])\n",
    "user_df"
   ]
  },
  {
   "cell_type": "code",
   "execution_count": null,
   "metadata": {},
   "outputs": [],
   "source": [
    "# dfとuser_dfを'user'をキーにして結合\n",
    "score_df = pd.merge(df, user_df, on='user')\n",
    "score_df"
   ]
  },
  {
   "cell_type": "markdown",
   "metadata": {},
   "source": [
    "## 練習\n",
    "以下のデータフレームとデータフレーム`df`を'user'列の値をキーにして結合して新たなデータフレームを作成してくだい"
   ]
  },
  {
   "cell_type": "code",
   "execution_count": null,
   "metadata": {},
   "outputs": [],
   "source": [
    "campus_df = pd.DataFrame({'user':[1,2,3,4,5], 'campus':['Komaba', 'Komaba', 'Hongo','Hongo','Hongo']}, columns=['user','campus'])\n",
    "campus_df"
   ]
  },
  {
   "cell_type": "markdown",
   "metadata": {},
   "source": [
    "## データのグループ化\n",
    "データフレームオブジェクトの**`groupby`**`()`メソッドを使うと、データフレームの任意の列の値に基づいて、同じ値を持つ行をグループにまとめることができます。列は複数指定することもできます。`groupby()`メソッドを適用するとグループ化オブジェクト（DataFrameGroupBy)が作成されますが、データフレームと同様の操作を多く適用することができます。"
   ]
  },
  {
   "cell_type": "code",
   "execution_count": null,
   "metadata": {},
   "outputs": [],
   "source": [
    "# データフレームの'class'の値で行をグループ化\n",
    "score_df.groupby('class')"
   ]
  },
  {
   "cell_type": "code",
   "execution_count": null,
   "metadata": {},
   "outputs": [],
   "source": [
    "# グループごとの先頭2行を表示\n",
    "score_df.groupby('class').head(2)"
   ]
  },
  {
   "cell_type": "code",
   "execution_count": null,
   "metadata": {},
   "outputs": [],
   "source": [
    "# グループごとの\"sugaku\"列,\"rika\"列の値の平均を表示\n",
    "score_df.groupby('class')[[\"sugaku\",\"rika\"]].mean()"
   ]
  },
  {
   "cell_type": "markdown",
   "metadata": {},
   "source": [
    "## 練習\n",
    "データフレーム`score_df`で'class'ごとの'kokugo'と'shakai'の平均を求めてください"
   ]
  },
  {
   "cell_type": "code",
   "execution_count": null,
   "metadata": {},
   "outputs": [],
   "source": []
  }
 ],
 "metadata": {
  "kernelspec": {
   "display_name": "Python 3",
   "language": "python",
   "name": "python3"
  },
  "language_info": {
   "codemirror_mode": {
    "name": "ipython",
    "version": 3
   },
   "file_extension": ".py",
   "mimetype": "text/x-python",
   "name": "python",
   "nbconvert_exporter": "python",
   "pygments_lexer": "ipython3",
   "version": "3.6.6"
  }
 },
 "nbformat": 4,
 "nbformat_minor": 2
}
