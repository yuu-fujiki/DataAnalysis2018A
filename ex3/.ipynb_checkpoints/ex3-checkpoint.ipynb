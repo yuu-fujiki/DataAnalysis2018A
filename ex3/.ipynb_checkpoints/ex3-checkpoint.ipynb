{
 "cells": [
  {
   "cell_type": "markdown",
   "metadata": {},
   "source": [
    "# 課題3 データの前処理と可視化"
   ]
  },
  {
   "cell_type": "code",
   "execution_count": 1,
   "metadata": {},
   "outputs": [],
   "source": [
    "# 必要なモジュールの読み込み\n",
    "import pandas as pd\n",
    "import numpy as np\n",
    "import matplotlib.pyplot as plt\n",
    "%matplotlib inline"
   ]
  },
  {
   "cell_type": "markdown",
   "metadata": {},
   "source": [
    "## Q1 欠損値の処理\n",
    "### 欠損値の検出\n",
    "pandasのシリーズやデータフレームではデータに欠損値（例えば数値データ内の空値）が含まれる場合、欠損値が`NaN`となります。以下では欠損値（空値）を含む得点データのcsvファイル, 'score_missing.csv', を読み込み、データフレーム`score`を作成します。"
   ]
  },
  {
   "cell_type": "code",
   "execution_count": 2,
   "metadata": {},
   "outputs": [
    {
     "data": {
      "text/html": [
       "<div>\n",
       "<style scoped>\n",
       "    .dataframe tbody tr th:only-of-type {\n",
       "        vertical-align: middle;\n",
       "    }\n",
       "\n",
       "    .dataframe tbody tr th {\n",
       "        vertical-align: top;\n",
       "    }\n",
       "\n",
       "    .dataframe thead th {\n",
       "        text-align: right;\n",
       "    }\n",
       "</style>\n",
       "<table border=\"1\" class=\"dataframe\">\n",
       "  <thead>\n",
       "    <tr style=\"text-align: right;\">\n",
       "      <th></th>\n",
       "      <th>kokugo</th>\n",
       "      <th>shakai</th>\n",
       "      <th>sugaku</th>\n",
       "      <th>rika</th>\n",
       "    </tr>\n",
       "  </thead>\n",
       "  <tbody>\n",
       "    <tr>\n",
       "      <th>0</th>\n",
       "      <td>30.0</td>\n",
       "      <td>43.0</td>\n",
       "      <td>51</td>\n",
       "      <td>NaN</td>\n",
       "    </tr>\n",
       "    <tr>\n",
       "      <th>1</th>\n",
       "      <td>39.0</td>\n",
       "      <td>21.0</td>\n",
       "      <td>50</td>\n",
       "      <td>56.0</td>\n",
       "    </tr>\n",
       "    <tr>\n",
       "      <th>2</th>\n",
       "      <td>NaN</td>\n",
       "      <td>NaN</td>\n",
       "      <td>23</td>\n",
       "      <td>57.0</td>\n",
       "    </tr>\n",
       "    <tr>\n",
       "      <th>3</th>\n",
       "      <td>29.0</td>\n",
       "      <td>87.0</td>\n",
       "      <td>77</td>\n",
       "      <td>100.0</td>\n",
       "    </tr>\n",
       "    <tr>\n",
       "      <th>4</th>\n",
       "      <td>70.0</td>\n",
       "      <td>71.0</td>\n",
       "      <td>78</td>\n",
       "      <td>67.0</td>\n",
       "    </tr>\n",
       "    <tr>\n",
       "      <th>5</th>\n",
       "      <td>66.0</td>\n",
       "      <td>NaN</td>\n",
       "      <td>53</td>\n",
       "      <td>NaN</td>\n",
       "    </tr>\n",
       "    <tr>\n",
       "      <th>6</th>\n",
       "      <td>29.0</td>\n",
       "      <td>26.0</td>\n",
       "      <td>44</td>\n",
       "      <td>52.0</td>\n",
       "    </tr>\n",
       "    <tr>\n",
       "      <th>7</th>\n",
       "      <td>NaN</td>\n",
       "      <td>54.0</td>\n",
       "      <td>37</td>\n",
       "      <td>59.0</td>\n",
       "    </tr>\n",
       "    <tr>\n",
       "      <th>8</th>\n",
       "      <td>45.0</td>\n",
       "      <td>NaN</td>\n",
       "      <td>7</td>\n",
       "      <td>44.0</td>\n",
       "    </tr>\n",
       "    <tr>\n",
       "      <th>9</th>\n",
       "      <td>68.0</td>\n",
       "      <td>41.0</td>\n",
       "      <td>29</td>\n",
       "      <td>81.0</td>\n",
       "    </tr>\n",
       "  </tbody>\n",
       "</table>\n",
       "</div>"
      ],
      "text/plain": [
       "   kokugo  shakai  sugaku   rika\n",
       "0    30.0    43.0      51    NaN\n",
       "1    39.0    21.0      50   56.0\n",
       "2     NaN     NaN      23   57.0\n",
       "3    29.0    87.0      77  100.0\n",
       "4    70.0    71.0      78   67.0\n",
       "5    66.0     NaN      53    NaN\n",
       "6    29.0    26.0      44   52.0\n",
       "7     NaN    54.0      37   59.0\n",
       "8    45.0     NaN       7   44.0\n",
       "9    68.0    41.0      29   81.0"
      ]
     },
     "execution_count": 2,
     "metadata": {},
     "output_type": "execute_result"
    }
   ],
   "source": [
    "score = pd.read_csv('score_missing.csv')\n",
    "score"
   ]
  },
  {
   "cell_type": "markdown",
   "metadata": {},
   "source": [
    "データフレームに欠損値が含まれるかどうかはpandasの`isnull()`メソッドを使うと調べることができます。`isnull()`メソッドはデータフレームの各要素の値について、欠損値であれば`True`、欠損値でなければ`False`を要素としたデータフレームを返します。\n",
    "\n",
    "`isnull()`メソッドの詳細は以下を参照してください。\n",
    "\n",
    "[isnull()](https://pandas.pydata.org/pandas-docs/stable/generated/pandas.isnull.html#pandas.isnull)"
   ]
  },
  {
   "cell_type": "code",
   "execution_count": 4,
   "metadata": {},
   "outputs": [
    {
     "data": {
      "text/html": [
       "<div>\n",
       "<style scoped>\n",
       "    .dataframe tbody tr th:only-of-type {\n",
       "        vertical-align: middle;\n",
       "    }\n",
       "\n",
       "    .dataframe tbody tr th {\n",
       "        vertical-align: top;\n",
       "    }\n",
       "\n",
       "    .dataframe thead th {\n",
       "        text-align: right;\n",
       "    }\n",
       "</style>\n",
       "<table border=\"1\" class=\"dataframe\">\n",
       "  <thead>\n",
       "    <tr style=\"text-align: right;\">\n",
       "      <th></th>\n",
       "      <th>kokugo</th>\n",
       "      <th>shakai</th>\n",
       "      <th>sugaku</th>\n",
       "      <th>rika</th>\n",
       "    </tr>\n",
       "  </thead>\n",
       "  <tbody>\n",
       "    <tr>\n",
       "      <th>0</th>\n",
       "      <td>False</td>\n",
       "      <td>False</td>\n",
       "      <td>False</td>\n",
       "      <td>True</td>\n",
       "    </tr>\n",
       "    <tr>\n",
       "      <th>1</th>\n",
       "      <td>False</td>\n",
       "      <td>False</td>\n",
       "      <td>False</td>\n",
       "      <td>False</td>\n",
       "    </tr>\n",
       "    <tr>\n",
       "      <th>2</th>\n",
       "      <td>True</td>\n",
       "      <td>True</td>\n",
       "      <td>False</td>\n",
       "      <td>False</td>\n",
       "    </tr>\n",
       "    <tr>\n",
       "      <th>3</th>\n",
       "      <td>False</td>\n",
       "      <td>False</td>\n",
       "      <td>False</td>\n",
       "      <td>False</td>\n",
       "    </tr>\n",
       "    <tr>\n",
       "      <th>4</th>\n",
       "      <td>False</td>\n",
       "      <td>False</td>\n",
       "      <td>False</td>\n",
       "      <td>False</td>\n",
       "    </tr>\n",
       "    <tr>\n",
       "      <th>5</th>\n",
       "      <td>False</td>\n",
       "      <td>True</td>\n",
       "      <td>False</td>\n",
       "      <td>True</td>\n",
       "    </tr>\n",
       "    <tr>\n",
       "      <th>6</th>\n",
       "      <td>False</td>\n",
       "      <td>False</td>\n",
       "      <td>False</td>\n",
       "      <td>False</td>\n",
       "    </tr>\n",
       "    <tr>\n",
       "      <th>7</th>\n",
       "      <td>True</td>\n",
       "      <td>False</td>\n",
       "      <td>False</td>\n",
       "      <td>False</td>\n",
       "    </tr>\n",
       "    <tr>\n",
       "      <th>8</th>\n",
       "      <td>False</td>\n",
       "      <td>True</td>\n",
       "      <td>False</td>\n",
       "      <td>False</td>\n",
       "    </tr>\n",
       "    <tr>\n",
       "      <th>9</th>\n",
       "      <td>False</td>\n",
       "      <td>False</td>\n",
       "      <td>False</td>\n",
       "      <td>False</td>\n",
       "    </tr>\n",
       "  </tbody>\n",
       "</table>\n",
       "</div>"
      ],
      "text/plain": [
       "   kokugo  shakai  sugaku   rika\n",
       "0   False   False   False   True\n",
       "1   False   False   False  False\n",
       "2    True    True   False  False\n",
       "3   False   False   False  False\n",
       "4   False   False   False  False\n",
       "5   False    True   False   True\n",
       "6   False   False   False  False\n",
       "7    True   False   False  False\n",
       "8   False    True   False  False\n",
       "9   False   False   False  False"
      ]
     },
     "execution_count": 4,
     "metadata": {},
     "output_type": "execute_result"
    }
   ],
   "source": [
    "score.isnull()"
   ]
  },
  {
   "cell_type": "markdown",
   "metadata": {},
   "source": [
    "`isnull()`メソッドで返された上記のデータフレームの`any()`メソッド使うと、データフレームにおいて欠損値を含む行または列を調べることができます。以下では、列ごとに欠損値を含むかどうかを示すシリーズオブジェクトを返します。"
   ]
  },
  {
   "cell_type": "code",
   "execution_count": 5,
   "metadata": {},
   "outputs": [
    {
     "data": {
      "text/plain": [
       "kokugo     True\n",
       "shakai     True\n",
       "sugaku    False\n",
       "rika       True\n",
       "dtype: bool"
      ]
     },
     "execution_count": 5,
     "metadata": {},
     "output_type": "execute_result"
    }
   ],
   "source": [
    "# 列ごとに欠損値があるか調べる\n",
    "score.isnull().any()"
   ]
  },
  {
   "cell_type": "markdown",
   "metadata": {},
   "source": [
    "上記で`any()メソッド`の引数`axix`を1とすると、行ごとに欠損値を含むかどうかを示すシリーズオブジェクトを返します。"
   ]
  },
  {
   "cell_type": "code",
   "execution_count": 6,
   "metadata": {},
   "outputs": [
    {
     "data": {
      "text/plain": [
       "0     True\n",
       "1    False\n",
       "2     True\n",
       "3    False\n",
       "4    False\n",
       "5     True\n",
       "6    False\n",
       "7     True\n",
       "8     True\n",
       "9    False\n",
       "dtype: bool"
      ]
     },
     "execution_count": 6,
     "metadata": {},
     "output_type": "execute_result"
    }
   ],
   "source": [
    "# 行ごとに欠損値があるか調べる\n",
    "score.isnull().any(axis=1)"
   ]
  },
  {
   "cell_type": "markdown",
   "metadata": {},
   "source": [
    "上記のシリーズオブジェクトを以下のようデータフレーム抽出の条件として用いると、元のデータフレームから欠損値を含む行または列からなるデータフレームを抽出できます。"
   ]
  },
  {
   "cell_type": "code",
   "execution_count": 7,
   "metadata": {},
   "outputs": [
    {
     "data": {
      "text/html": [
       "<div>\n",
       "<style scoped>\n",
       "    .dataframe tbody tr th:only-of-type {\n",
       "        vertical-align: middle;\n",
       "    }\n",
       "\n",
       "    .dataframe tbody tr th {\n",
       "        vertical-align: top;\n",
       "    }\n",
       "\n",
       "    .dataframe thead th {\n",
       "        text-align: right;\n",
       "    }\n",
       "</style>\n",
       "<table border=\"1\" class=\"dataframe\">\n",
       "  <thead>\n",
       "    <tr style=\"text-align: right;\">\n",
       "      <th></th>\n",
       "      <th>kokugo</th>\n",
       "      <th>shakai</th>\n",
       "      <th>sugaku</th>\n",
       "      <th>rika</th>\n",
       "    </tr>\n",
       "  </thead>\n",
       "  <tbody>\n",
       "    <tr>\n",
       "      <th>0</th>\n",
       "      <td>30.0</td>\n",
       "      <td>43.0</td>\n",
       "      <td>51</td>\n",
       "      <td>NaN</td>\n",
       "    </tr>\n",
       "    <tr>\n",
       "      <th>2</th>\n",
       "      <td>NaN</td>\n",
       "      <td>NaN</td>\n",
       "      <td>23</td>\n",
       "      <td>57.0</td>\n",
       "    </tr>\n",
       "    <tr>\n",
       "      <th>5</th>\n",
       "      <td>66.0</td>\n",
       "      <td>NaN</td>\n",
       "      <td>53</td>\n",
       "      <td>NaN</td>\n",
       "    </tr>\n",
       "    <tr>\n",
       "      <th>7</th>\n",
       "      <td>NaN</td>\n",
       "      <td>54.0</td>\n",
       "      <td>37</td>\n",
       "      <td>59.0</td>\n",
       "    </tr>\n",
       "    <tr>\n",
       "      <th>8</th>\n",
       "      <td>45.0</td>\n",
       "      <td>NaN</td>\n",
       "      <td>7</td>\n",
       "      <td>44.0</td>\n",
       "    </tr>\n",
       "  </tbody>\n",
       "</table>\n",
       "</div>"
      ],
      "text/plain": [
       "   kokugo  shakai  sugaku  rika\n",
       "0    30.0    43.0      51   NaN\n",
       "2     NaN     NaN      23  57.0\n",
       "5    66.0     NaN      53   NaN\n",
       "7     NaN    54.0      37  59.0\n",
       "8    45.0     NaN       7  44.0"
      ]
     },
     "execution_count": 7,
     "metadata": {},
     "output_type": "execute_result"
    }
   ],
   "source": [
    "# データフレームから欠損値を含む行を抽出\n",
    "score[score.isnull().any(axis=1)]"
   ]
  },
  {
   "cell_type": "code",
   "execution_count": 8,
   "metadata": {},
   "outputs": [
    {
     "data": {
      "text/html": [
       "<div>\n",
       "<style scoped>\n",
       "    .dataframe tbody tr th:only-of-type {\n",
       "        vertical-align: middle;\n",
       "    }\n",
       "\n",
       "    .dataframe tbody tr th {\n",
       "        vertical-align: top;\n",
       "    }\n",
       "\n",
       "    .dataframe thead th {\n",
       "        text-align: right;\n",
       "    }\n",
       "</style>\n",
       "<table border=\"1\" class=\"dataframe\">\n",
       "  <thead>\n",
       "    <tr style=\"text-align: right;\">\n",
       "      <th></th>\n",
       "      <th>kokugo</th>\n",
       "      <th>shakai</th>\n",
       "      <th>rika</th>\n",
       "    </tr>\n",
       "  </thead>\n",
       "  <tbody>\n",
       "    <tr>\n",
       "      <th>0</th>\n",
       "      <td>30.0</td>\n",
       "      <td>43.0</td>\n",
       "      <td>NaN</td>\n",
       "    </tr>\n",
       "    <tr>\n",
       "      <th>1</th>\n",
       "      <td>39.0</td>\n",
       "      <td>21.0</td>\n",
       "      <td>56.0</td>\n",
       "    </tr>\n",
       "    <tr>\n",
       "      <th>2</th>\n",
       "      <td>NaN</td>\n",
       "      <td>NaN</td>\n",
       "      <td>57.0</td>\n",
       "    </tr>\n",
       "    <tr>\n",
       "      <th>3</th>\n",
       "      <td>29.0</td>\n",
       "      <td>87.0</td>\n",
       "      <td>100.0</td>\n",
       "    </tr>\n",
       "    <tr>\n",
       "      <th>4</th>\n",
       "      <td>70.0</td>\n",
       "      <td>71.0</td>\n",
       "      <td>67.0</td>\n",
       "    </tr>\n",
       "    <tr>\n",
       "      <th>5</th>\n",
       "      <td>66.0</td>\n",
       "      <td>NaN</td>\n",
       "      <td>NaN</td>\n",
       "    </tr>\n",
       "    <tr>\n",
       "      <th>6</th>\n",
       "      <td>29.0</td>\n",
       "      <td>26.0</td>\n",
       "      <td>52.0</td>\n",
       "    </tr>\n",
       "    <tr>\n",
       "      <th>7</th>\n",
       "      <td>NaN</td>\n",
       "      <td>54.0</td>\n",
       "      <td>59.0</td>\n",
       "    </tr>\n",
       "    <tr>\n",
       "      <th>8</th>\n",
       "      <td>45.0</td>\n",
       "      <td>NaN</td>\n",
       "      <td>44.0</td>\n",
       "    </tr>\n",
       "    <tr>\n",
       "      <th>9</th>\n",
       "      <td>68.0</td>\n",
       "      <td>41.0</td>\n",
       "      <td>81.0</td>\n",
       "    </tr>\n",
       "  </tbody>\n",
       "</table>\n",
       "</div>"
      ],
      "text/plain": [
       "   kokugo  shakai   rika\n",
       "0    30.0    43.0    NaN\n",
       "1    39.0    21.0   56.0\n",
       "2     NaN     NaN   57.0\n",
       "3    29.0    87.0  100.0\n",
       "4    70.0    71.0   67.0\n",
       "5    66.0     NaN    NaN\n",
       "6    29.0    26.0   52.0\n",
       "7     NaN    54.0   59.0\n",
       "8    45.0     NaN   44.0\n",
       "9    68.0    41.0   81.0"
      ]
     },
     "execution_count": 8,
     "metadata": {},
     "output_type": "execute_result"
    }
   ],
   "source": [
    "# データフレームから欠損値を含む列を抽出\n",
    "score.loc[:, score.isnull().any()]"
   ]
  },
  {
   "cell_type": "markdown",
   "metadata": {},
   "source": [
    "### 欠損値の削除\n",
    "pandasの`dropna()`メソッドを使うと欠損値を含む行を削除することができます。`dropna()`メソッドでは、この他にもさまざまな方法で欠損値を削除することができます。詳細は以下を参照してください。\n",
    "\n",
    "[dropna()](https://pandas.pydata.org/pandas-docs/stable/generated/pandas.DataFrame.dropna.html)"
   ]
  },
  {
   "cell_type": "code",
   "execution_count": 9,
   "metadata": {},
   "outputs": [
    {
     "data": {
      "text/html": [
       "<div>\n",
       "<style scoped>\n",
       "    .dataframe tbody tr th:only-of-type {\n",
       "        vertical-align: middle;\n",
       "    }\n",
       "\n",
       "    .dataframe tbody tr th {\n",
       "        vertical-align: top;\n",
       "    }\n",
       "\n",
       "    .dataframe thead th {\n",
       "        text-align: right;\n",
       "    }\n",
       "</style>\n",
       "<table border=\"1\" class=\"dataframe\">\n",
       "  <thead>\n",
       "    <tr style=\"text-align: right;\">\n",
       "      <th></th>\n",
       "      <th>kokugo</th>\n",
       "      <th>shakai</th>\n",
       "      <th>sugaku</th>\n",
       "      <th>rika</th>\n",
       "    </tr>\n",
       "  </thead>\n",
       "  <tbody>\n",
       "    <tr>\n",
       "      <th>1</th>\n",
       "      <td>39.0</td>\n",
       "      <td>21.0</td>\n",
       "      <td>50</td>\n",
       "      <td>56.0</td>\n",
       "    </tr>\n",
       "    <tr>\n",
       "      <th>3</th>\n",
       "      <td>29.0</td>\n",
       "      <td>87.0</td>\n",
       "      <td>77</td>\n",
       "      <td>100.0</td>\n",
       "    </tr>\n",
       "    <tr>\n",
       "      <th>4</th>\n",
       "      <td>70.0</td>\n",
       "      <td>71.0</td>\n",
       "      <td>78</td>\n",
       "      <td>67.0</td>\n",
       "    </tr>\n",
       "    <tr>\n",
       "      <th>6</th>\n",
       "      <td>29.0</td>\n",
       "      <td>26.0</td>\n",
       "      <td>44</td>\n",
       "      <td>52.0</td>\n",
       "    </tr>\n",
       "    <tr>\n",
       "      <th>9</th>\n",
       "      <td>68.0</td>\n",
       "      <td>41.0</td>\n",
       "      <td>29</td>\n",
       "      <td>81.0</td>\n",
       "    </tr>\n",
       "  </tbody>\n",
       "</table>\n",
       "</div>"
      ],
      "text/plain": [
       "   kokugo  shakai  sugaku   rika\n",
       "1    39.0    21.0      50   56.0\n",
       "3    29.0    87.0      77  100.0\n",
       "4    70.0    71.0      78   67.0\n",
       "6    29.0    26.0      44   52.0\n",
       "9    68.0    41.0      29   81.0"
      ]
     },
     "execution_count": 9,
     "metadata": {},
     "output_type": "execute_result"
    }
   ],
   "source": [
    "score.dropna()"
   ]
  },
  {
   "cell_type": "markdown",
   "metadata": {},
   "source": [
    "### 欠損値の補完\n",
    "pandasの`fillna()`メソッドを使うと欠損値を補完することができます。以下では、欠損値が含まれる列の欠損がない要素の値の平均値でその列にある欠損値を補完しています。`fillna()`メソッドでは、この他にもさまざまな方法で欠損値を補完することができます。詳細は以下を参照してください。\n",
    "\n",
    "[fillna()](https://pandas.pydata.org/pandas-docs/stable/generated/pandas.DataFrame.fillna.html)"
   ]
  },
  {
   "cell_type": "code",
   "execution_count": 10,
   "metadata": {},
   "outputs": [
    {
     "data": {
      "text/html": [
       "<div>\n",
       "<style scoped>\n",
       "    .dataframe tbody tr th:only-of-type {\n",
       "        vertical-align: middle;\n",
       "    }\n",
       "\n",
       "    .dataframe tbody tr th {\n",
       "        vertical-align: top;\n",
       "    }\n",
       "\n",
       "    .dataframe thead th {\n",
       "        text-align: right;\n",
       "    }\n",
       "</style>\n",
       "<table border=\"1\" class=\"dataframe\">\n",
       "  <thead>\n",
       "    <tr style=\"text-align: right;\">\n",
       "      <th></th>\n",
       "      <th>kokugo</th>\n",
       "      <th>shakai</th>\n",
       "      <th>sugaku</th>\n",
       "      <th>rika</th>\n",
       "    </tr>\n",
       "  </thead>\n",
       "  <tbody>\n",
       "    <tr>\n",
       "      <th>0</th>\n",
       "      <td>30.0</td>\n",
       "      <td>43.0</td>\n",
       "      <td>51</td>\n",
       "      <td>64.5</td>\n",
       "    </tr>\n",
       "    <tr>\n",
       "      <th>1</th>\n",
       "      <td>39.0</td>\n",
       "      <td>21.0</td>\n",
       "      <td>50</td>\n",
       "      <td>56.0</td>\n",
       "    </tr>\n",
       "    <tr>\n",
       "      <th>2</th>\n",
       "      <td>47.0</td>\n",
       "      <td>49.0</td>\n",
       "      <td>23</td>\n",
       "      <td>57.0</td>\n",
       "    </tr>\n",
       "    <tr>\n",
       "      <th>3</th>\n",
       "      <td>29.0</td>\n",
       "      <td>87.0</td>\n",
       "      <td>77</td>\n",
       "      <td>100.0</td>\n",
       "    </tr>\n",
       "    <tr>\n",
       "      <th>4</th>\n",
       "      <td>70.0</td>\n",
       "      <td>71.0</td>\n",
       "      <td>78</td>\n",
       "      <td>67.0</td>\n",
       "    </tr>\n",
       "    <tr>\n",
       "      <th>5</th>\n",
       "      <td>66.0</td>\n",
       "      <td>49.0</td>\n",
       "      <td>53</td>\n",
       "      <td>64.5</td>\n",
       "    </tr>\n",
       "    <tr>\n",
       "      <th>6</th>\n",
       "      <td>29.0</td>\n",
       "      <td>26.0</td>\n",
       "      <td>44</td>\n",
       "      <td>52.0</td>\n",
       "    </tr>\n",
       "    <tr>\n",
       "      <th>7</th>\n",
       "      <td>47.0</td>\n",
       "      <td>54.0</td>\n",
       "      <td>37</td>\n",
       "      <td>59.0</td>\n",
       "    </tr>\n",
       "    <tr>\n",
       "      <th>8</th>\n",
       "      <td>45.0</td>\n",
       "      <td>49.0</td>\n",
       "      <td>7</td>\n",
       "      <td>44.0</td>\n",
       "    </tr>\n",
       "    <tr>\n",
       "      <th>9</th>\n",
       "      <td>68.0</td>\n",
       "      <td>41.0</td>\n",
       "      <td>29</td>\n",
       "      <td>81.0</td>\n",
       "    </tr>\n",
       "  </tbody>\n",
       "</table>\n",
       "</div>"
      ],
      "text/plain": [
       "   kokugo  shakai  sugaku   rika\n",
       "0    30.0    43.0      51   64.5\n",
       "1    39.0    21.0      50   56.0\n",
       "2    47.0    49.0      23   57.0\n",
       "3    29.0    87.0      77  100.0\n",
       "4    70.0    71.0      78   67.0\n",
       "5    66.0    49.0      53   64.5\n",
       "6    29.0    26.0      44   52.0\n",
       "7    47.0    54.0      37   59.0\n",
       "8    45.0    49.0       7   44.0\n",
       "9    68.0    41.0      29   81.0"
      ]
     },
     "execution_count": 10,
     "metadata": {},
     "output_type": "execute_result"
    }
   ],
   "source": [
    "score = pd.read_csv('score_missing.csv')\n",
    "score.fillna(score.mean())"
   ]
  },
  {
   "cell_type": "markdown",
   "metadata": {},
   "source": [
    "### Q1.1\n",
    "欠損値（空値）を含む得点データのcsvファイル, 'score_missing.csv', を読み込み作成したデータフレームを受け取り、各列の欠損値をその列の欠損がない要素の値の中央値で補完したデータフレームを返す`fill_median()`関数を完成させてください。"
   ]
  },
  {
   "cell_type": "code",
   "execution_count": 12,
   "metadata": {},
   "outputs": [
    {
     "data": {
      "text/html": [
       "<div>\n",
       "<style scoped>\n",
       "    .dataframe tbody tr th:only-of-type {\n",
       "        vertical-align: middle;\n",
       "    }\n",
       "\n",
       "    .dataframe tbody tr th {\n",
       "        vertical-align: top;\n",
       "    }\n",
       "\n",
       "    .dataframe thead th {\n",
       "        text-align: right;\n",
       "    }\n",
       "</style>\n",
       "<table border=\"1\" class=\"dataframe\">\n",
       "  <thead>\n",
       "    <tr style=\"text-align: right;\">\n",
       "      <th></th>\n",
       "      <th>kokugo</th>\n",
       "      <th>shakai</th>\n",
       "      <th>sugaku</th>\n",
       "      <th>rika</th>\n",
       "    </tr>\n",
       "  </thead>\n",
       "  <tbody>\n",
       "    <tr>\n",
       "      <th>0</th>\n",
       "      <td>30.0</td>\n",
       "      <td>43.0</td>\n",
       "      <td>51</td>\n",
       "      <td>58.0</td>\n",
       "    </tr>\n",
       "    <tr>\n",
       "      <th>1</th>\n",
       "      <td>39.0</td>\n",
       "      <td>21.0</td>\n",
       "      <td>50</td>\n",
       "      <td>56.0</td>\n",
       "    </tr>\n",
       "    <tr>\n",
       "      <th>2</th>\n",
       "      <td>42.0</td>\n",
       "      <td>43.0</td>\n",
       "      <td>23</td>\n",
       "      <td>57.0</td>\n",
       "    </tr>\n",
       "    <tr>\n",
       "      <th>3</th>\n",
       "      <td>29.0</td>\n",
       "      <td>87.0</td>\n",
       "      <td>77</td>\n",
       "      <td>100.0</td>\n",
       "    </tr>\n",
       "    <tr>\n",
       "      <th>4</th>\n",
       "      <td>70.0</td>\n",
       "      <td>71.0</td>\n",
       "      <td>78</td>\n",
       "      <td>67.0</td>\n",
       "    </tr>\n",
       "    <tr>\n",
       "      <th>5</th>\n",
       "      <td>66.0</td>\n",
       "      <td>43.0</td>\n",
       "      <td>53</td>\n",
       "      <td>58.0</td>\n",
       "    </tr>\n",
       "    <tr>\n",
       "      <th>6</th>\n",
       "      <td>29.0</td>\n",
       "      <td>26.0</td>\n",
       "      <td>44</td>\n",
       "      <td>52.0</td>\n",
       "    </tr>\n",
       "    <tr>\n",
       "      <th>7</th>\n",
       "      <td>42.0</td>\n",
       "      <td>54.0</td>\n",
       "      <td>37</td>\n",
       "      <td>59.0</td>\n",
       "    </tr>\n",
       "    <tr>\n",
       "      <th>8</th>\n",
       "      <td>45.0</td>\n",
       "      <td>43.0</td>\n",
       "      <td>7</td>\n",
       "      <td>44.0</td>\n",
       "    </tr>\n",
       "    <tr>\n",
       "      <th>9</th>\n",
       "      <td>68.0</td>\n",
       "      <td>41.0</td>\n",
       "      <td>29</td>\n",
       "      <td>81.0</td>\n",
       "    </tr>\n",
       "  </tbody>\n",
       "</table>\n",
       "</div>"
      ],
      "text/plain": [
       "   kokugo  shakai  sugaku   rika\n",
       "0    30.0    43.0      51   58.0\n",
       "1    39.0    21.0      50   56.0\n",
       "2    42.0    43.0      23   57.0\n",
       "3    29.0    87.0      77  100.0\n",
       "4    70.0    71.0      78   67.0\n",
       "5    66.0    43.0      53   58.0\n",
       "6    29.0    26.0      44   52.0\n",
       "7    42.0    54.0      37   59.0\n",
       "8    45.0    43.0       7   44.0\n",
       "9    68.0    41.0      29   81.0"
      ]
     },
     "execution_count": 12,
     "metadata": {},
     "output_type": "execute_result"
    }
   ],
   "source": [
    "score = pd.read_csv('score_missing.csv') # csvファイル読み込み\n",
    "def fill_median(df):\n",
    "    return df.fillna(score.median())\n",
    "fill_median(score) # 関数呼び出して補完されたデータフレームを表示"
   ]
  },
  {
   "cell_type": "markdown",
   "metadata": {},
   "source": [
    "`fill_median()`関数が完成したら、以下のセルを実行してデータフレームのすべての要素の和を求めることで動作を確認してください。すべての要素の和は`2013`となります。"
   ]
  },
  {
   "cell_type": "code",
   "execution_count": 13,
   "metadata": {},
   "outputs": [
    {
     "data": {
      "text/plain": [
       "2013.0"
      ]
     },
     "execution_count": 13,
     "metadata": {},
     "output_type": "execute_result"
    }
   ],
   "source": [
    "fill_median(score).sum().sum()"
   ]
  },
  {
   "cell_type": "code",
   "execution_count": 14,
   "metadata": {},
   "outputs": [],
   "source": [
    "### このセルは変更しないでください ###\n",
    "assert 2013 == fill_median(score).sum().sum()"
   ]
  },
  {
   "cell_type": "markdown",
   "metadata": {},
   "source": [
    "## Q2 外れ値の処理\n",
    "### NumPyでの記述統計\n",
    "以下では、次のような形式の\"exam_score.csv\"ファイルを読み込み、NumPyの配列を作成し、NumPyの関数または`ndarray`オブジェクトのメソッドを用いて、配列の記述統計を求めています。\n",
    "```Python\n",
    "## exam_score.csvファイル\n",
    "kokugo, shakai, sugaku, rika\n",
    "30, 43, 51, 63\n",
    "39, 21, 49, 56\n",
    "...\n",
    "```"
   ]
  },
  {
   "cell_type": "code",
   "execution_count": 58,
   "metadata": {},
   "outputs": [
    {
     "name": "stdout",
     "output_type": "stream",
     "text": [
      "[[ 30.  39.  29.  95.  70.  67.  29.  56.  45.  68.  50.  70.  46.  23.\n",
      "   77.  15.  37.  55.   0.  35.  60.  70.  82.  44.  54.  80.  46.  48.\n",
      "   51.  37.  31.  35.  50.  33.  27.  36.  77.  61.  84.  78.   7.  57.\n",
      "   60.  17.  82.  37.  40.  72.  74.  87.  66.  90.  43.  24.  41.  42.\n",
      "   33.  29.  83.  73.  66.  71.  62.  47.  53.  61.  21.  74.  72.  50.\n",
      "    5.  32.  23.  34.  70.   9.  61.  34.  38.  72.  32.  52.  96.  58.\n",
      "   35.  40.  48.  46.  32.  50.  76.  64.  62.  76.  81.  69.  89.  27.\n",
      "   39.  62.  73.  49.  35.  36.  16.  60.  74.  22.  47.  43.  84.  65.\n",
      "   49.  31.  83.  87.  68.  68.  28.  42.  42.  70.  58.  57.   8.  44.\n",
      "   65.  81.  57.  64.  86.  34.  84.   4.  23.  66.  53.  70.  78.  39.\n",
      "   74.  33.  43.  54.  26.  58.  29.  73.  59.  58.  70.  19.  29.  32.\n",
      "   77.  91.  50.  63.  42.  68.  70.  82.   0.  45.  73.  60.]\n",
      " [ 43.  21.  30.  87.  71.  53.  26.  54.  21.  41.  43.  61.  37.  24.\n",
      "   54.   8.  23.  42.   5.  48.  80.  52.  84.  22.  14.  63.  47.  63.\n",
      "   41.  18.  29.  52.  41.  28.  20.  27.  70.  49.  90.  43.  17.  32.\n",
      "   60.  19.  86.  36.  27.  73.  63.  85.  34.  68.  19.  15.  34.  16.\n",
      "   23.  15.  83.  81.  23.  38.  57.  51.  33.  33.  20.  66.  68.  44.\n",
      "   27.  28.  25.  20.  87.  25.  37.  40.  31.  41.  28.  29.  76.  31.\n",
      "   23.  38.  23.  53.  21.  28.  63.  40.  43.  42.  50.  49.  83.  29.\n",
      "   24.  39.  74.  18.  18.   4.  16.  48.  60.   9.  21.  32.  51.  43.\n",
      "   26.  14.  54.  86.  59.  53.   4.  29.  31.  57.  62.  40.  12.  32.\n",
      "   43.  53.  53.  36.  62.  27.  57.   9.   9.  43.  23.  41.  53.  19.\n",
      "   62.  33.  24.  21.  15.  17.  15.  60.  25.  17.  56.  12.  21.   7.\n",
      "   64.  69.  31.  32.  16.  28.  23.  78.   8.  26.  31.  85.]\n",
      " [ 51.  49.  23.  77.  78.  56.  44.  37.   7.  29.  80.  61.  36.  20.\n",
      "   58.  22.  23.  85.   0.  24.  64.  75.  86.  18.  33.  59.  72.  72.\n",
      "   63.  38.  28.  40.  50.  65.  17.  62.  91.  71.  87.  59.  18.  36.\n",
      "   85.  25.  75.  45.  35.  94.  79.  84.  57.  64.  29.   1.  28.  29.\n",
      "   48.  20.  58.  94.  78.  80.  91.  69.  50.  50.  39.  65.  42.  47.\n",
      "   29.  14.  26.  23.  84.  23.  39.  36.  33.  36.  32.  32.  90.  46.\n",
      "   17.   7.  41.  34.  24.  29.  74.  30.  14.  58.  61.  30.  73.  34.\n",
      "   26.  42.  74.  27.  28.  15.  25.  67.  57.   6.  26.  74.  76.  38.\n",
      "   62.   8.  44.  77.  60.  41.  37.  33.  47.  60.  40.  43.   0.  31.\n",
      "   36.  78.  75.  20.  78.  48.  45.   5.   5.  54.  28.  44.  45.   5.\n",
      "   44.  32.  29.  43.  13.  34.  37.  59.  45.  31.  76.   9.  26.  14.\n",
      "   87. 100.  53.  43.  27.  60.  43.  80.   2.  29.  43.  89.]\n",
      " [ 63.  56.  57. 100.  67.  61.  52.  59.  44.  81.  73.  71.  56.  36.\n",
      "   84.  29.  32.  86.  24.  42.  72.  60.  88.  13.  43.  73.  56.  83.\n",
      "   60.  51.  36.  65.  64.  43.  29.  58.  72.  71. 100.  55.  27.  55.\n",
      "   66.  28.  84.  41.  45.  96.  69.  93.  50.  78.  35.  17.  43.  43.\n",
      "   53.  21.  71.  85.  41.  61.  83.  80.  38.  49.  21.  78.  66.  56.\n",
      "   24.  43.  34.  30.  88.  33.  55.  33.  31.  44.  41.  36.  77.  46.\n",
      "   38.  21.  40.  30.  28.  31.  72.  49.  48.  51.  63.  34.  81.  40.\n",
      "   24.  40.  61.  20.  25.  43.  22.  29.  78.  26.  25.  55.  84.  70.\n",
      "   50.  16.  45.  78.  63.  57.  29.  48.  44.  61.  66.  28.  20.  28.\n",
      "   49.  81.  58.  31.  54.  52.  64.  11.  26.  72.  30.  34.  54.  32.\n",
      "   58.  42.  47.  28.  19.  19.  19.  54.  48.  23.  62.  28.  30.  18.\n",
      "   71.  83.  44.  52.  22.  69.  50.  88.   9.  24.  32.  80.]]\n"
     ]
    }
   ],
   "source": [
    "# csvファイルからNumPy配列の作成\n",
    "score = np.loadtxt(\"exam_score.csv\", delimiter=\",\", skiprows=1)\n",
    "print(score)"
   ]
  },
  {
   "cell_type": "code",
   "execution_count": 47,
   "metadata": {},
   "outputs": [
    {
     "name": "stdout",
     "output_type": "stream",
     "text": [
      "[52.3313253  39.60240964 45.61445783 49.88554217]\n",
      "[473.93239222 457.60095805 583.85135724 455.54714037]\n",
      "[53. 35. 43. 49.]\n",
      "[ 96.  90. 100. 100.]\n",
      "[0. 4. 0. 9.]\n"
     ]
    }
   ],
   "source": [
    "# NumPyの関数で配列の各列の平均、分散、中央値、最大、最小を求める\n",
    "print(np.mean(score, axis=0)) # 平均\n",
    "print(np.var(score, axis=0)) # 分散\n",
    "print(np.median(score, axis=0)) # 中央値\n",
    "print(np.amax(score, axis=0)) # 最大値\n",
    "print(np.amin(score, axis=0)) # 最小値"
   ]
  },
  {
   "cell_type": "code",
   "execution_count": 48,
   "metadata": {},
   "outputs": [
    {
     "name": "stdout",
     "output_type": "stream",
     "text": [
      "[52.3313253  39.60240964 45.61445783 49.88554217]\n",
      "[473.93239222 457.60095805 583.85135724 455.54714037]\n",
      "[ 96.  90. 100. 100.]\n",
      "[0. 4. 0. 9.]\n"
     ]
    }
   ],
   "source": [
    "# ndarrayのメソッドで配列の各列の平均、分散、最大、最小を求める\n",
    "print(score.mean(0)) # 平均\n",
    "print(score.var(0)) # 分散\n",
    "print(score.max(0)) # 最大値\n",
    "print(score.min(0)) # 最小値"
   ]
  },
  {
   "cell_type": "markdown",
   "metadata": {},
   "source": [
    "### Q2.1\n",
    "整数を要素とする任意の長さの1次元配列を入力として受け取り、配列の要素の値の中で、以下の外れ値の基準にあてはまる要素からなる1次元配列を返す`find_outliers()`関数を完成させてください。なお、IQRは四分位範囲であり、第3四分位から第1四分位を引いた値です。\n",
    "- （第1四分位-1.5IQR）を値の下限としてそれより小さい値は外れ値とする\n",
    "- （第3四分位+1.5IQR）を値の上限としてそれより大きい値は外れ値とする\n",
    "\n",
    "配列の第1四分位と第3四分位は、NumPyの`percentile()`関数を用いて以下のように求められる。\n",
    "```Python\n",
    "第1四分位, 第3四分位=np.percentile(配列, [25, 75])\n",
    "```"
   ]
  },
  {
   "cell_type": "code",
   "execution_count": 49,
   "metadata": {},
   "outputs": [],
   "source": [
    "def find_outliers(input_array):\n",
    "    q1, q3 = np.percentile(input_array, [25, 75])\n",
    "    iqr = q3 - q1\n",
    "    lower = q1 - 1.51 * iqr\n",
    "    upper = q3 + 1.51 * iqr\n",
    "    return  np.array([i for i in input_array if i < lower or i > upper])"
   ]
  },
  {
   "cell_type": "markdown",
   "metadata": {},
   "source": [
    "`find_outliers()`関数が完成したら、以下のセルを実行して動作を確認してください。`[-100, 200, 1000]`が外れ値の配列です。"
   ]
  },
  {
   "cell_type": "code",
   "execution_count": 50,
   "metadata": {},
   "outputs": [
    {
     "data": {
      "text/plain": [
       "array([-100,  200, 1000])"
      ]
     },
     "execution_count": 50,
     "metadata": {},
     "output_type": "execute_result"
    }
   ],
   "source": [
    "find_outliers(np.array([30,39,-100,29,95,70,67,200,29,1000,56,45,68]))"
   ]
  },
  {
   "cell_type": "code",
   "execution_count": 51,
   "metadata": {},
   "outputs": [],
   "source": [
    "### このセルは変更しないでください ###\n",
    "assert [-100, 200, 1000] == find_outliers(np.array([30,39,-100,29,95,70,67,200,29,1000,56,45,68])).tolist()"
   ]
  },
  {
   "cell_type": "markdown",
   "metadata": {},
   "source": [
    "### Q2.2\n",
    "以下のような形式の\"score_outlier.csv\"ファイルを読み込み、データフレーム`score`を作成します。\n",
    "```Python\n",
    "## score_outlier.csvファイル\n",
    "kokugo, shakai, sugaku, rika\n",
    "30, 43, 51, 63\n",
    "39, 21, 49, 56\n",
    "...\n",
    "```\n",
    "`score`を受け取り、各列ごとに、Q2.1と同様に四分位範囲, 第3四分位, 第1四分位を用いて外れ値を検出し、外れ値を含む行を除いたデータフレームを返す関数`drop_outliers()`を完成させてください。データフレームの各列の第1四分位と第3四分位は、pandasの`describe()`関数を用いて以下のように求められる。\n",
    "```Python\n",
    "第1四分位 = データフレーム[列名].describe()['25%']\n",
    "第3四分位 = データフレーム[列名].describe()['75%']\n",
    "```"
   ]
  },
  {
   "cell_type": "code",
   "execution_count": 52,
   "metadata": {},
   "outputs": [
    {
     "data": {
      "text/html": [
       "<div>\n",
       "<style scoped>\n",
       "    .dataframe tbody tr th:only-of-type {\n",
       "        vertical-align: middle;\n",
       "    }\n",
       "\n",
       "    .dataframe tbody tr th {\n",
       "        vertical-align: top;\n",
       "    }\n",
       "\n",
       "    .dataframe thead th {\n",
       "        text-align: right;\n",
       "    }\n",
       "</style>\n",
       "<table border=\"1\" class=\"dataframe\">\n",
       "  <thead>\n",
       "    <tr style=\"text-align: right;\">\n",
       "      <th></th>\n",
       "      <th>kokugo</th>\n",
       "      <th>shakai</th>\n",
       "      <th>sugaku</th>\n",
       "      <th>rika</th>\n",
       "    </tr>\n",
       "  </thead>\n",
       "  <tbody>\n",
       "    <tr>\n",
       "      <th>0</th>\n",
       "      <td>30</td>\n",
       "      <td>43</td>\n",
       "      <td>51</td>\n",
       "      <td>63</td>\n",
       "    </tr>\n",
       "    <tr>\n",
       "      <th>1</th>\n",
       "      <td>39</td>\n",
       "      <td>21</td>\n",
       "      <td>49</td>\n",
       "      <td>56</td>\n",
       "    </tr>\n",
       "    <tr>\n",
       "      <th>2</th>\n",
       "      <td>29</td>\n",
       "      <td>30</td>\n",
       "      <td>23</td>\n",
       "      <td>57</td>\n",
       "    </tr>\n",
       "    <tr>\n",
       "      <th>3</th>\n",
       "      <td>95</td>\n",
       "      <td>87</td>\n",
       "      <td>77</td>\n",
       "      <td>100</td>\n",
       "    </tr>\n",
       "    <tr>\n",
       "      <th>4</th>\n",
       "      <td>70</td>\n",
       "      <td>71</td>\n",
       "      <td>78</td>\n",
       "      <td>67</td>\n",
       "    </tr>\n",
       "    <tr>\n",
       "      <th>5</th>\n",
       "      <td>67</td>\n",
       "      <td>53</td>\n",
       "      <td>56</td>\n",
       "      <td>61</td>\n",
       "    </tr>\n",
       "    <tr>\n",
       "      <th>6</th>\n",
       "      <td>29</td>\n",
       "      <td>26</td>\n",
       "      <td>44</td>\n",
       "      <td>52</td>\n",
       "    </tr>\n",
       "    <tr>\n",
       "      <th>7</th>\n",
       "      <td>56</td>\n",
       "      <td>54</td>\n",
       "      <td>37</td>\n",
       "      <td>59</td>\n",
       "    </tr>\n",
       "    <tr>\n",
       "      <th>8</th>\n",
       "      <td>45</td>\n",
       "      <td>21</td>\n",
       "      <td>7</td>\n",
       "      <td>44</td>\n",
       "    </tr>\n",
       "    <tr>\n",
       "      <th>9</th>\n",
       "      <td>68</td>\n",
       "      <td>41</td>\n",
       "      <td>29</td>\n",
       "      <td>81</td>\n",
       "    </tr>\n",
       "  </tbody>\n",
       "</table>\n",
       "</div>"
      ],
      "text/plain": [
       "   kokugo  shakai  sugaku  rika\n",
       "0      30      43      51    63\n",
       "1      39      21      49    56\n",
       "2      29      30      23    57\n",
       "3      95      87      77   100\n",
       "4      70      71      78    67\n",
       "5      67      53      56    61\n",
       "6      29      26      44    52\n",
       "7      56      54      37    59\n",
       "8      45      21       7    44\n",
       "9      68      41      29    81"
      ]
     },
     "execution_count": 52,
     "metadata": {},
     "output_type": "execute_result"
    }
   ],
   "source": [
    "score = pd.read_csv('score_outlier.csv') # csvファイル読み込み\n",
    "def drop_outliers(df):\n",
    "    columns = df.columns # 列名のリスト\n",
    "    for c in columns: # 各列ごとの処理      \n",
    "        q1 = df[c].describe()['25%']\n",
    "        q3 = df[c].describe()['75%']\n",
    "        iqr =  q3 - q1\n",
    "        lower = q1 - 1.51 * iqr\n",
    "        upper = q3 + 1.51 * iqr\n",
    "        df = df[(lower <= df[c]) & (df[c] <= upper)]\n",
    "    return df \n",
    "\n",
    "drop_outliers(score).head(10)  # 関数呼び出して外れた値を含む行を除いたデータフレームを表示"
   ]
  },
  {
   "cell_type": "markdown",
   "metadata": {},
   "source": [
    "`drop_outliers()`関数が完成したら、以下のセルを実行して外れ値を含む行を除いたデータフレームの行数を求めることで動作を確認してください。行数は`155`となります。"
   ]
  },
  {
   "cell_type": "code",
   "execution_count": 53,
   "metadata": {},
   "outputs": [
    {
     "data": {
      "text/plain": [
       "155"
      ]
     },
     "execution_count": 53,
     "metadata": {},
     "output_type": "execute_result"
    }
   ],
   "source": [
    "len(drop_outliers(score).index)"
   ]
  },
  {
   "cell_type": "code",
   "execution_count": 54,
   "metadata": {},
   "outputs": [],
   "source": [
    "### このセルは変更しないでください ###\n",
    "assert 155 == len(drop_outliers(score).index)"
   ]
  },
  {
   "cell_type": "markdown",
   "metadata": {},
   "source": [
    "### Q2.3\n",
    "`matplotlib`では、以下のようにして複数の1次配列を入力として、それぞれを箱ひげ図として同時に可視化することができます。\n",
    "```Python\n",
    "plt.boxplot([配列1, 配列2, 配列3, ....], showmeans=True);\n",
    "```\n",
    "\"score_outlier.csv\"ファイルを読み込み、NumPyの配列を作成し、各教科の点数の箱ひげ図を可視化してください。"
   ]
  },
  {
   "cell_type": "code",
   "execution_count": 60,
   "metadata": {},
   "outputs": [
    {
     "data": {
      "image/png": "[encoded data removed]",
      "text/plain": [
       "<matplotlib.figure.Figure at 0x1080472b0>"
      ]
     },
     "metadata": {},
     "output_type": "display_data"
    }
   ],
   "source": [
    "# csvファイルからNumPy配列の作成\n",
    "score = np.loadtxt(\"score_outlier.csv\", delimiter=\",\", skiprows=1).T\n",
    "plt.boxplot([score[0], score[1], score[2], score[3]], showmeans=True);"
   ]
  },
  {
   "cell_type": "markdown",
   "metadata": {},
   "source": [
    "## Q3 標準化\n",
    "以下のような形式の\"exam_score.csv\"ファイルを読み込み、作成したNumPyの配列を受け取り、各教科の点数をその教科の平均値と分散を用いて標準化した配列を返す`normalize_score()`関数を完成させてください。平均値と分散の計算には、NumPyの関数またはndarrayオブジェクトのメソッド、どちらを使ってもよいです。また、分散は標本分散としてください。\n",
    "```Python\n",
    "## exam_score.csvファイル\n",
    "kokugo, shakai, sugaku, rika\n",
    "30, 43, 51, 63\n",
    "39, 21, 49, 56\n",
    "...\n",
    "```\n",
    "\n",
    "配列の列ごとに関数やメソッドを適用するには以下のように`axis`引数を0とする。\n",
    "```Python\n",
    "np.mean(配列, axis=0)\n",
    "配列.mean(axis=0)\n",
    "```\n",
    "また、配列の元の次元を保持したい場合は`keepdims`引数をTrueとする。\n",
    "```Python\n",
    "np.mean(配列, axis=0, keepdims=True)\n",
    "配列.mean(axis=0, keepdims=True)\n",
    "```"
   ]
  },
  {
   "cell_type": "code",
   "execution_count": 81,
   "metadata": {},
   "outputs": [
    {
     "data": {
      "text/plain": [
       "array([[-1.0257849 , -0.61237172, -1.0717197 ,  1.95997692,  0.81160699,\n",
       "         0.6738026 , -1.0717197 ,  0.16851983, -0.33676294,  0.7197374 ,\n",
       "        -0.10708895,  0.81160699, -0.29082814, -1.34732848,  1.13315057,\n",
       "        -1.71480686, -0.70424132,  0.12258503, -2.40382882, -0.79611091,\n",
       "         0.35225902,  0.81160699,  1.36282456, -0.38269774,  0.07665023,\n",
       "         1.27095496, -0.29082814, -0.19895855, -0.06115416, -0.70424132,\n",
       "        -0.9798501 , -0.79611091, -0.10708895, -0.88798051, -1.16358929,\n",
       "        -0.75017612,  1.13315057,  0.39819381,  1.45469415,  1.17908537,\n",
       "        -2.08228524,  0.21445463,  0.35225902, -1.62293726,  1.36282456,\n",
       "        -0.70424132, -0.56643693,  0.90347658,  0.99534618,  1.59249854,\n",
       "         0.6278678 ,  1.73030293, -0.42863254, -1.30139368, -0.52050213,\n",
       "        -0.47456733, -0.88798051, -1.0717197 ,  1.40875935,  0.94941138,\n",
       "         0.6278678 ,  0.85754179,  0.44412861, -0.24489335,  0.03071544,\n",
       "         0.39819381, -1.43919807,  0.99534618,  0.90347658, -0.10708895,\n",
       "        -2.17415483, -0.93391531, -1.34732848, -0.84204571,  0.81160699,\n",
       "        -1.99041564,  0.39819381, -0.84204571, -0.65830652,  0.90347658,\n",
       "        -0.93391531, -0.01521936,  2.00591172,  0.26038942, -0.79611091,\n",
       "        -0.56643693, -0.19895855, -0.29082814, -0.93391531, -0.10708895,\n",
       "         1.08721577,  0.53599821,  0.44412861,  1.08721577,  1.31688976,\n",
       "         0.76567219,  1.68436814, -1.16358929, -0.61237172,  0.44412861,\n",
       "         0.94941138, -0.15302375, -0.79611091, -0.75017612, -1.66887206,\n",
       "         0.35225902,  0.99534618, -1.39326328, -0.24489335, -0.42863254,\n",
       "         1.45469415,  0.581933  , -0.15302375, -0.9798501 ,  1.40875935,\n",
       "         1.59249854,  0.7197374 ,  0.7197374 , -1.11765449, -0.47456733,\n",
       "        -0.47456733,  0.81160699,  0.26038942,  0.21445463, -2.03635044,\n",
       "        -0.38269774,  0.581933  ,  1.31688976,  0.21445463,  0.53599821,\n",
       "         1.54656375, -0.84204571,  1.45469415, -2.22008963, -1.34732848,\n",
       "         0.6278678 ,  0.03071544,  0.81160699,  1.17908537, -0.61237172,\n",
       "         0.99534618, -0.88798051, -0.42863254,  0.07665023, -1.20952409,\n",
       "         0.26038942, -1.0717197 ,  0.94941138,  0.30632422,  0.26038942,\n",
       "         0.81160699, -1.53106767, -1.0717197 , -0.93391531,  1.13315057,\n",
       "         1.77623773, -0.10708895,  0.49006341, -0.47456733,  0.7197374 ,\n",
       "         0.81160699,  1.36282456, -2.40382882, -0.33676294,  0.94941138,\n",
       "         0.35225902],\n",
       "       [ 0.15882818, -0.86961243, -0.44888673,  2.2157094 ,  1.46775259,\n",
       "         0.62630118, -0.63587593,  0.67304848, -0.86961243,  0.06533358,\n",
       "         0.15882818,  1.00027959, -0.12165563, -0.72937053,  0.67304848,\n",
       "        -1.47732734, -0.77611783,  0.11208088, -1.61756924,  0.39256468,\n",
       "         1.8884783 ,  0.57955388,  2.0754675 , -0.82286513, -1.19684354,\n",
       "         1.09377419,  0.34581738,  1.09377419,  0.06533358, -1.00985434,\n",
       "        -0.49563403,  0.57955388,  0.06533358, -0.54238133, -0.91635974,\n",
       "        -0.58912863,  1.42100529,  0.43931198,  2.3559513 ,  0.15882818,\n",
       "        -1.05660164, -0.35539213,  0.95353229, -0.96310704,  2.1689621 ,\n",
       "        -0.16840293, -0.58912863,  1.56124719,  1.09377419,  2.1222148 ,\n",
       "        -0.26189753,  1.32751069, -0.96310704, -1.15009624, -0.26189753,\n",
       "        -1.10334894, -0.77611783, -1.15009624,  2.0287202 ,  1.9352256 ,\n",
       "        -0.77611783, -0.07490833,  0.81329039,  0.53280658, -0.30864483,\n",
       "        -0.30864483, -0.91635974,  1.23401609,  1.32751069,  0.20557548,\n",
       "        -0.58912863, -0.54238133, -0.68262323, -0.91635974,  2.2157094 ,\n",
       "        -0.68262323, -0.12165563,  0.01858628, -0.40213943,  0.06533358,\n",
       "        -0.54238133, -0.49563403,  1.7014891 , -0.40213943, -0.77611783,\n",
       "        -0.07490833, -0.77611783,  0.62630118, -0.86961243, -0.54238133,\n",
       "         1.09377419,  0.01858628,  0.15882818,  0.11208088,  0.48605928,\n",
       "         0.43931198,  2.0287202 , -0.49563403, -0.72937053, -0.02816102,\n",
       "         1.6079945 , -1.00985434, -1.00985434, -1.66431654, -1.10334894,\n",
       "         0.39256468,  0.95353229, -1.43058004, -0.86961243, -0.35539213,\n",
       "         0.53280658,  0.15882818, -0.63587593, -1.19684354,  0.67304848,\n",
       "         2.1689621 ,  0.90678499,  0.62630118, -1.66431654, -0.49563403,\n",
       "        -0.40213943,  0.81329039,  1.04702689,  0.01858628, -1.29033814,\n",
       "        -0.35539213,  0.15882818,  0.62630118,  0.62630118, -0.16840293,\n",
       "         1.04702689, -0.58912863,  0.81329039, -1.43058004, -1.43058004,\n",
       "         0.15882818, -0.77611783,  0.06533358,  0.62630118, -0.96310704,\n",
       "         1.04702689, -0.30864483, -0.72937053, -0.86961243, -1.15009624,\n",
       "        -1.05660164, -1.15009624,  0.95353229, -0.68262323, -1.05660164,\n",
       "         0.76654309, -1.29033814, -0.86961243, -1.52407464,  1.14052149,\n",
       "         1.37425799, -0.40213943, -0.35539213, -1.10334894, -0.54238133,\n",
       "        -0.77611783,  1.7949837 , -1.47732734, -0.63587593, -0.40213943,\n",
       "         2.1222148 ],\n",
       "       [ 0.22288369,  0.14011256, -0.93591204,  1.29890829,  1.34029385,\n",
       "         0.4298115 , -0.06681524, -0.35651418, -1.59808102, -0.68759867,\n",
       "         1.42306497,  0.6367393 , -0.39789974, -1.06006872,  0.51258262,\n",
       "        -0.9772976 , -0.93591204,  1.62999278, -1.88777995, -0.89452648,\n",
       "         0.76089599,  1.21613717,  1.67137834, -1.14283985, -0.52205642,\n",
       "         0.55396818,  1.09198048,  1.09198048,  0.71951043, -0.31512861,\n",
       "        -0.72898423, -0.23235749,  0.18149813,  0.80228155, -1.18422541,\n",
       "         0.67812486,  1.87830615,  1.05059492,  1.7127639 ,  0.55396818,\n",
       "        -1.14283985, -0.39789974,  1.62999278, -0.85314091,  1.21613717,\n",
       "        -0.02542968, -0.4392853 ,  2.00246284,  1.38167941,  1.58860722,\n",
       "         0.47119706,  0.76089599, -0.68759867, -1.84639439, -0.72898423,\n",
       "        -0.68759867,  0.098727  , -1.06006872,  0.51258262,  2.00246284,\n",
       "         1.34029385,  1.42306497,  1.87830615,  0.9678238 ,  0.18149813,\n",
       "         0.18149813, -0.27374305,  0.80228155, -0.14958637,  0.05734144,\n",
       "        -0.68759867, -1.30838209, -0.81175535, -0.93591204,  1.58860722,\n",
       "        -0.93591204, -0.27374305, -0.39789974, -0.52205642, -0.39789974,\n",
       "        -0.56344198, -0.56344198,  1.83692059,  0.01595588, -1.18422541,\n",
       "        -1.59808102, -0.19097193, -0.48067086, -0.89452648, -0.68759867,\n",
       "         1.1747516 , -0.64621311, -1.30838209,  0.51258262,  0.6367393 ,\n",
       "        -0.64621311,  1.13336604, -0.48067086, -0.81175535, -0.14958637,\n",
       "         1.1747516 , -0.77036979, -0.72898423, -1.26699653, -0.85314091,\n",
       "         0.88505267,  0.47119706, -1.63946658, -0.81175535,  1.1747516 ,\n",
       "         1.25752273, -0.31512861,  0.67812486, -1.55669546, -0.06681524,\n",
       "         1.29890829,  0.59535374, -0.19097193, -0.35651418, -0.52205642,\n",
       "         0.05734144,  0.59535374, -0.23235749, -0.10820081, -1.88777995,\n",
       "        -0.60482754, -0.39789974,  1.34029385,  1.21613717, -1.06006872,\n",
       "         1.34029385,  0.098727  , -0.02542968, -1.68085215, -1.68085215,\n",
       "         0.34704037, -0.72898423, -0.06681524, -0.02542968, -1.68085215,\n",
       "        -0.06681524, -0.56344198, -0.68759867, -0.10820081, -1.34976765,\n",
       "        -0.48067086, -0.35651418,  0.55396818, -0.02542968, -0.60482754,\n",
       "         1.25752273, -1.5153099 , -0.81175535, -1.30838209,  1.7127639 ,\n",
       "         2.25077621,  0.30565481, -0.10820081, -0.77036979,  0.59535374,\n",
       "        -0.10820081,  1.42306497, -1.80500883, -0.68759867, -0.10820081,\n",
       "         1.79553503],\n",
       "       [ 0.61444594,  0.28647801,  0.33333057,  2.34799071,  0.80185618,\n",
       "         0.52074082,  0.09906777,  0.42703569, -0.27575273,  1.45779204,\n",
       "         1.08297155,  0.98926643,  0.28647801, -0.65057322,  1.59834973,\n",
       "        -0.97854114, -0.83798346,  1.69205485, -1.21280395, -0.36945785,\n",
       "         1.03611899,  0.47388826,  1.78575997, -1.72818213, -0.32260529,\n",
       "         1.08297155,  0.28647801,  1.55149717,  0.47388826,  0.0522152 ,\n",
       "        -0.65057322,  0.70815106,  0.6612985 , -0.32260529, -0.97854114,\n",
       "         0.38018313,  1.03611899,  0.98926643,  2.34799071,  0.23962545,\n",
       "        -1.07224627,  0.23962545,  0.75500362, -1.02539371,  1.59834973,\n",
       "        -0.41631041, -0.22890016,  2.16058046,  0.89556131,  2.02002278,\n",
       "         0.00536264,  1.31723436, -0.69742578, -1.54077188, -0.32260529,\n",
       "        -0.32260529,  0.14592033, -1.35336164,  0.98926643,  1.64520229,\n",
       "        -0.41631041,  0.52074082,  1.55149717,  1.41093948, -0.55686809,\n",
       "        -0.04148992, -1.35336164,  1.31723436,  0.75500362,  0.28647801,\n",
       "        -1.21280395, -0.32260529, -0.74427834, -0.93168858,  1.78575997,\n",
       "        -0.7911309 ,  0.23962545, -0.7911309 , -0.88483602, -0.27575273,\n",
       "        -0.41631041, -0.65057322,  1.2703818 , -0.1820476 , -0.55686809,\n",
       "        -1.35336164, -0.46316297, -0.93168858, -1.02539371, -0.88483602,\n",
       "         1.03611899, -0.04148992, -0.08834248,  0.0522152 ,  0.61444594,\n",
       "        -0.74427834,  1.45779204, -0.46316297, -1.21280395, -0.46316297,\n",
       "         0.52074082, -1.4002142 , -1.16595139, -0.32260529, -1.30650907,\n",
       "        -0.97854114,  1.31723436, -1.11909883, -1.16595139,  0.23962545,\n",
       "         1.59834973,  0.94241387,  0.00536264, -1.58762444, -0.22890016,\n",
       "         1.31723436,  0.61444594,  0.33333057, -0.97854114, -0.08834248,\n",
       "        -0.27575273,  0.52074082,  0.75500362, -1.02539371, -1.4002142 ,\n",
       "        -1.02539371, -0.04148992,  1.45779204,  0.38018313, -0.88483602,\n",
       "         0.19277289,  0.09906777,  0.6612985 , -1.82188725, -1.11909883,\n",
       "         1.03611899, -0.93168858, -0.74427834,  0.19277289, -0.83798346,\n",
       "         0.38018313, -0.36945785, -0.13519504, -1.02539371, -1.44706676,\n",
       "        -1.44706676, -1.44706676,  0.19277289, -0.08834248, -1.25965651,\n",
       "         0.56759338, -1.02539371, -0.93168858, -1.49391932,  0.98926643,\n",
       "         1.55149717, -0.27575273,  0.09906777, -1.30650907,  0.89556131,\n",
       "         0.00536264,  1.78575997, -1.91559237, -1.21280395, -0.83798346,\n",
       "         1.41093948]])"
      ]
     },
     "execution_count": 81,
     "metadata": {},
     "output_type": "execute_result"
    }
   ],
   "source": [
    "# csvファイルからNumPy配列の作成\n",
    "score = np.loadtxt(\"exam_score.csv\", delimiter=\",\", skiprows=1)\n",
    "def normalize_score(a):\n",
    "    a = a.T\n",
    "    return np.array([(a[0] - a[0].mean(axis=0)) / np.std(a[0]), (a[1] - a[1].mean()) / np.std(a[1]), (a[2] - a[2].mean()) / np.std(a[2]), (a[3] - a[3].mean()) / np.std(a[3])])\n",
    "normalize_score(score) # 関数呼び出して標準化された配列を表示"
   ]
  },
  {
   "cell_type": "markdown",
   "metadata": {},
   "source": [
    "`normalize_score()`関数が完成したら、以下のセルを実行して標準化された`score`配列のすべての要素の和を求めることで動作を確認してください。すべての要素の和は`1.4210854715202004e-14`となります。"
   ]
  },
  {
   "cell_type": "code",
   "execution_count": 82,
   "metadata": {},
   "outputs": [
    {
     "data": {
      "text/plain": [
       "1.7763568394002505e-14"
      ]
     },
     "execution_count": 82,
     "metadata": {},
     "output_type": "execute_result"
    }
   ],
   "source": [
    "normalize_score(score).sum()"
   ]
  },
  {
   "cell_type": "code",
   "execution_count": 83,
   "metadata": {},
   "outputs": [
    {
     "ename": "AssertionError",
     "evalue": "",
     "output_type": "error",
     "traceback": [
      "\u001b[0;31m---------------------------------------------------------------------------\u001b[0m",
      "\u001b[0;31mAssertionError\u001b[0m                            Traceback (most recent call last)",
      "\u001b[0;32m<ipython-input-83-966b06fbbd09>\u001b[0m in \u001b[0;36m<module>\u001b[0;34m()\u001b[0m\n\u001b[1;32m      1\u001b[0m \u001b[0;31m### このセルは変更しないでください ###\u001b[0m\u001b[0;34m\u001b[0m\u001b[0;34m\u001b[0m\u001b[0m\n\u001b[0;32m----> 2\u001b[0;31m \u001b[0;32massert\u001b[0m \u001b[0;36m1.4210854715202004e-14\u001b[0m \u001b[0;34m==\u001b[0m \u001b[0mnormalize_score\u001b[0m\u001b[0;34m(\u001b[0m\u001b[0mscore\u001b[0m\u001b[0;34m)\u001b[0m\u001b[0;34m.\u001b[0m\u001b[0msum\u001b[0m\u001b[0;34m(\u001b[0m\u001b[0;34m)\u001b[0m\u001b[0;34m\u001b[0m\u001b[0m\n\u001b[0m",
      "\u001b[0;31mAssertionError\u001b[0m: "
     ]
    }
   ],
   "source": [
    "### このセルは変更しないでください ###\n",
    "assert 1.4210854715202004e-14 == normalize_score(score).sum()"
   ]
  },
  {
   "cell_type": "markdown",
   "metadata": {},
   "source": [
    "### 参考\n",
    "pandasでは以下のようにしてデータフレームの各列をその列の平均値と分散を用いて標準化できます。"
   ]
  },
  {
   "cell_type": "code",
   "execution_count": 84,
   "metadata": {},
   "outputs": [
    {
     "data": {
      "text/html": [
       "<div>\n",
       "<style scoped>\n",
       "    .dataframe tbody tr th:only-of-type {\n",
       "        vertical-align: middle;\n",
       "    }\n",
       "\n",
       "    .dataframe tbody tr th {\n",
       "        vertical-align: top;\n",
       "    }\n",
       "\n",
       "    .dataframe thead th {\n",
       "        text-align: right;\n",
       "    }\n",
       "</style>\n",
       "<table border=\"1\" class=\"dataframe\">\n",
       "  <thead>\n",
       "    <tr style=\"text-align: right;\">\n",
       "      <th></th>\n",
       "      <th>kokugo</th>\n",
       "      <th>shakai</th>\n",
       "      <th>sugaku</th>\n",
       "      <th>rika</th>\n",
       "    </tr>\n",
       "  </thead>\n",
       "  <tbody>\n",
       "    <tr>\n",
       "      <th>0</th>\n",
       "      <td>-1.025785</td>\n",
       "      <td>0.158828</td>\n",
       "      <td>0.222884</td>\n",
       "      <td>0.614446</td>\n",
       "    </tr>\n",
       "    <tr>\n",
       "      <th>1</th>\n",
       "      <td>-0.612372</td>\n",
       "      <td>-0.869612</td>\n",
       "      <td>0.140113</td>\n",
       "      <td>0.286478</td>\n",
       "    </tr>\n",
       "    <tr>\n",
       "      <th>2</th>\n",
       "      <td>-1.071720</td>\n",
       "      <td>-0.448887</td>\n",
       "      <td>-0.935912</td>\n",
       "      <td>0.333331</td>\n",
       "    </tr>\n",
       "    <tr>\n",
       "      <th>3</th>\n",
       "      <td>1.959977</td>\n",
       "      <td>2.215709</td>\n",
       "      <td>1.298908</td>\n",
       "      <td>2.347991</td>\n",
       "    </tr>\n",
       "    <tr>\n",
       "      <th>4</th>\n",
       "      <td>0.811607</td>\n",
       "      <td>1.467753</td>\n",
       "      <td>1.340294</td>\n",
       "      <td>0.801856</td>\n",
       "    </tr>\n",
       "  </tbody>\n",
       "</table>\n",
       "</div>"
      ],
      "text/plain": [
       "     kokugo    shakai    sugaku      rika\n",
       "0 -1.025785  0.158828  0.222884  0.614446\n",
       "1 -0.612372 -0.869612  0.140113  0.286478\n",
       "2 -1.071720 -0.448887 -0.935912  0.333331\n",
       "3  1.959977  2.215709  1.298908  2.347991\n",
       "4  0.811607  1.467753  1.340294  0.801856"
      ]
     },
     "execution_count": 84,
     "metadata": {},
     "output_type": "execute_result"
    }
   ],
   "source": [
    "score_df = pd.read_csv('exam_score.csv')\n",
    "((score_df - score_df.mean()) / score_df.std(ddof=0)).head(5)"
   ]
  },
  {
   "cell_type": "markdown",
   "metadata": {},
   "source": [
    "## Q3 ヒストグラム\n",
    "`matplotlib`では、以下のように1次配列を入力として、ヒストグラムを可視化することができます。\n",
    "```Python\n",
    "plt.hist(配列, bins=階級数);\n",
    "```\n",
    "\"exam_score.csv\"ファイルを読み込み、NumPyの配列を作成し、数学（3列目）の点数のヒストグラムを可視化してください。その際、階級数は任意に設定してください。"
   ]
  },
  {
   "cell_type": "code",
   "execution_count": 91,
   "metadata": {},
   "outputs": [
    {
     "data": {
      "image/png": "[encoded data removed]",
      "text/plain": [
       "<matplotlib.figure.Figure at 0x107f796a0>"
      ]
     },
     "metadata": {},
     "output_type": "display_data"
    }
   ],
   "source": [
    "# csvファイルからNumPy配列の作成\n",
    "score = np.loadtxt(\"exam_score.csv\", delimiter=\",\", skiprows=1)\n",
    "plt.hist(score.T[2], 20);"
   ]
  },
  {
   "cell_type": "markdown",
   "metadata": {},
   "source": [
    "### 参考\n",
    "平均=muと標準偏差=stdの時の正規分布に従うランダムな値からなる配列を入力とするヒストグラム"
   ]
  },
  {
   "cell_type": "code",
   "execution_count": 89,
   "metadata": {},
   "outputs": [
    {
     "data": {
      "image/png": "[encoded data removed]",
      "text/plain": [
       "<matplotlib.figure.Figure at 0x107c214a8>"
      ]
     },
     "metadata": {},
     "output_type": "display_data"
    }
   ],
   "source": [
    "mu, std = 0, 1\n",
    "nor = np.random.normal(mu, std, 20000000)\n",
    "plt.hist(nor, bins=20);"
   ]
  },
  {
   "cell_type": "markdown",
   "metadata": {},
   "source": [
    "## Q4 相関\n",
    "### Q4.1\n",
    "整数を要素とする同じ長さの2つの1次元配列を入力として受け取り、それらの配列の要素の相関係数を返す`correlation()`関数を完成させてください。2つの配列は先頭から順にそれぞれの要素が対応するものとします。それぞれの配列の対応する要素の値を$x_{i}, y_{i}$とすると、相関係数は以下のように求められます。\n",
    "\n",
    "$\\frac{1}{n}\\Sigma^{n}_{i=1}(\\frac{x_{i}-\\overline{x}}{s_{x}})(\\frac{y_{i}-\\overline{y}}{s_{y}})$\n",
    "\n",
    "$\\overline{x}, \\overline{y}$は平均、$s_{x}, s_{y}$は標準偏差です。"
   ]
  },
  {
   "cell_type": "code",
   "execution_count": 106,
   "metadata": {},
   "outputs": [],
   "source": [
    "def correlation(x, y):\n",
    "    x_mean = x.mean()\n",
    "    y_mean = y.mean()\n",
    "    x_std = np.std(x)\n",
    "    y_std = np.std(y)\n",
    "    output = 0\n",
    "    for i, j in zip(x, y):\n",
    "        output += ((x - x_mean) / x_std) * ((y - y_mean) / y_std)\n",
    "    output = output / len(x)\n",
    "    return output"
   ]
  },
  {
   "cell_type": "markdown",
   "metadata": {},
   "source": [
    "`correlation()`関数が完成したら、以下のセルを実行して動作を確認してください。それぞれ相関係数は`1`,`-1`となります"
   ]
  },
  {
   "cell_type": "code",
   "execution_count": 107,
   "metadata": {},
   "outputs": [
    {
     "data": {
      "text/plain": [
       "array([1., 1.])"
      ]
     },
     "execution_count": 107,
     "metadata": {},
     "output_type": "execute_result"
    }
   ],
   "source": [
    "correlation(np.array([-1,1]),np.array([ -1, 1]))"
   ]
  },
  {
   "cell_type": "code",
   "execution_count": 108,
   "metadata": {},
   "outputs": [
    {
     "data": {
      "text/plain": [
       "array([-1., -1.])"
      ]
     },
     "execution_count": 108,
     "metadata": {},
     "output_type": "execute_result"
    }
   ],
   "source": [
    "correlation(np.array([1,-1]),np.array([-1, 1]))"
   ]
  },
  {
   "cell_type": "code",
   "execution_count": 109,
   "metadata": {},
   "outputs": [
    {
     "ename": "NameError",
     "evalue": "name 'correlation_ans' is not defined",
     "output_type": "error",
     "traceback": [
      "\u001b[0;31m---------------------------------------------------------------------------\u001b[0m",
      "\u001b[0;31mNameError\u001b[0m                                 Traceback (most recent call last)",
      "\u001b[0;32m<ipython-input-109-190e246c589b>\u001b[0m in \u001b[0;36m<module>\u001b[0;34m()\u001b[0m\n\u001b[1;32m      1\u001b[0m \u001b[0;31m### このセルは変更しないでください ###\u001b[0m\u001b[0;34m\u001b[0m\u001b[0;34m\u001b[0m\u001b[0m\n\u001b[0;32m----> 2\u001b[0;31m \u001b[0;32massert\u001b[0m \u001b[0;36m1\u001b[0m \u001b[0;34m==\u001b[0m \u001b[0mcorrelation_ans\u001b[0m\u001b[0;34m(\u001b[0m\u001b[0mnp\u001b[0m\u001b[0;34m.\u001b[0m\u001b[0marray\u001b[0m\u001b[0;34m(\u001b[0m\u001b[0;34m[\u001b[0m\u001b[0;34m-\u001b[0m\u001b[0;36m1\u001b[0m\u001b[0;34m,\u001b[0m\u001b[0;36m1\u001b[0m\u001b[0;34m]\u001b[0m\u001b[0;34m)\u001b[0m\u001b[0;34m,\u001b[0m\u001b[0mnp\u001b[0m\u001b[0;34m.\u001b[0m\u001b[0marray\u001b[0m\u001b[0;34m(\u001b[0m\u001b[0;34m[\u001b[0m \u001b[0;34m-\u001b[0m\u001b[0;36m1\u001b[0m\u001b[0;34m,\u001b[0m \u001b[0;36m1\u001b[0m\u001b[0;34m]\u001b[0m\u001b[0;34m)\u001b[0m\u001b[0;34m)\u001b[0m\u001b[0;34m\u001b[0m\u001b[0m\n\u001b[0m\u001b[1;32m      3\u001b[0m \u001b[0;32massert\u001b[0m \u001b[0;34m-\u001b[0m\u001b[0;36m1\u001b[0m \u001b[0;34m==\u001b[0m \u001b[0mcorrelation_ans\u001b[0m\u001b[0;34m(\u001b[0m\u001b[0mnp\u001b[0m\u001b[0;34m.\u001b[0m\u001b[0marray\u001b[0m\u001b[0;34m(\u001b[0m\u001b[0;34m[\u001b[0m\u001b[0;36m1\u001b[0m\u001b[0;34m,\u001b[0m\u001b[0;34m-\u001b[0m\u001b[0;36m1\u001b[0m\u001b[0;34m]\u001b[0m\u001b[0;34m)\u001b[0m\u001b[0;34m,\u001b[0m\u001b[0mnp\u001b[0m\u001b[0;34m.\u001b[0m\u001b[0marray\u001b[0m\u001b[0;34m(\u001b[0m\u001b[0;34m[\u001b[0m \u001b[0;34m-\u001b[0m\u001b[0;36m1\u001b[0m\u001b[0;34m,\u001b[0m \u001b[0;36m1\u001b[0m\u001b[0;34m]\u001b[0m\u001b[0;34m)\u001b[0m\u001b[0;34m)\u001b[0m\u001b[0;34m\u001b[0m\u001b[0m\n",
      "\u001b[0;31mNameError\u001b[0m: name 'correlation_ans' is not defined"
     ]
    }
   ],
   "source": [
    "### このセルは変更しないでください ###\n",
    "assert 1 == correlation_ans(np.array([-1,1]),np.array([ -1, 1]))\n",
    "assert -1 == correlation_ans(np.array([1,-1]),np.array([ -1, 1]))"
   ]
  },
  {
   "cell_type": "markdown",
   "metadata": {},
   "source": [
    "### Q4.2\n",
    "以下のような形式の\"exam_score.csv\"ファイルを読み込み、数学と理科の点数の関係を散布図として可視化してください。\n",
    "```Python\n",
    "## exam_score.csvファイル\n",
    "kokugo, shakai, sugaku, rika\n",
    "30, 43, 51, 63\n",
    "39, 21, 49, 56\n",
    "...\n",
    "```\n",
    "`matplotlib`では、以下のように2つの1次配列を入力として、散布図を可視化することができます。\n",
    "```Python\n",
    "plt.plot(配列1, 配列2, 'o');\n",
    "```"
   ]
  },
  {
   "cell_type": "code",
   "execution_count": 98,
   "metadata": {},
   "outputs": [
    {
     "data": {
      "image/png": "[encoded data removed]",
      "text/plain": [
       "<matplotlib.figure.Figure at 0x1083d19e8>"
      ]
     },
     "metadata": {},
     "output_type": "display_data"
    }
   ],
   "source": [
    "# csvファイルからNumPy配列の作成\n",
    "score = np.loadtxt(\"exam_score.csv\", delimiter=\",\", skiprows=1)\n",
    "plt.plot(score.T[2], score.T[3], 'o');"
   ]
  },
  {
   "cell_type": "markdown",
   "metadata": {},
   "source": [
    "### 参考\n",
    "NumPyの`corrcoef()`関数を使うと2つの配列の共分散行列を以下のように求めることができます。"
   ]
  },
  {
   "cell_type": "code",
   "execution_count": 99,
   "metadata": {},
   "outputs": [
    {
     "data": {
      "text/plain": [
       "array([[1.        , 0.78262164],\n",
       "       [0.78262164, 1.        ]])"
      ]
     },
     "execution_count": 99,
     "metadata": {},
     "output_type": "execute_result"
    }
   ],
   "source": [
    "score = np.loadtxt(\"exam_score.csv\", delimiter=\",\", skiprows=1)\n",
    "np.corrcoef(score[:,0], score[:,1])"
   ]
  },
  {
   "cell_type": "markdown",
   "metadata": {},
   "source": [
    "pandasのcorrメソッドを使うとデータフレームの列間の相関係数を以下のように求めることができます。"
   ]
  },
  {
   "cell_type": "code",
   "execution_count": 100,
   "metadata": {},
   "outputs": [
    {
     "data": {
      "text/html": [
       "<div>\n",
       "<style scoped>\n",
       "    .dataframe tbody tr th:only-of-type {\n",
       "        vertical-align: middle;\n",
       "    }\n",
       "\n",
       "    .dataframe tbody tr th {\n",
       "        vertical-align: top;\n",
       "    }\n",
       "\n",
       "    .dataframe thead th {\n",
       "        text-align: right;\n",
       "    }\n",
       "</style>\n",
       "<table border=\"1\" class=\"dataframe\">\n",
       "  <thead>\n",
       "    <tr style=\"text-align: right;\">\n",
       "      <th></th>\n",
       "      <th>kokugo</th>\n",
       "      <th>shakai</th>\n",
       "      <th>sugaku</th>\n",
       "      <th>rika</th>\n",
       "    </tr>\n",
       "  </thead>\n",
       "  <tbody>\n",
       "    <tr>\n",
       "      <th>kokugo</th>\n",
       "      <td>1.000000</td>\n",
       "      <td>0.782622</td>\n",
       "      <td>0.718526</td>\n",
       "      <td>0.717996</td>\n",
       "    </tr>\n",
       "    <tr>\n",
       "      <th>shakai</th>\n",
       "      <td>0.782622</td>\n",
       "      <td>1.000000</td>\n",
       "      <td>0.778242</td>\n",
       "      <td>0.834075</td>\n",
       "    </tr>\n",
       "    <tr>\n",
       "      <th>sugaku</th>\n",
       "      <td>0.718526</td>\n",
       "      <td>0.778242</td>\n",
       "      <td>1.000000</td>\n",
       "      <td>0.817947</td>\n",
       "    </tr>\n",
       "    <tr>\n",
       "      <th>rika</th>\n",
       "      <td>0.717996</td>\n",
       "      <td>0.834075</td>\n",
       "      <td>0.817947</td>\n",
       "      <td>1.000000</td>\n",
       "    </tr>\n",
       "  </tbody>\n",
       "</table>\n",
       "</div>"
      ],
      "text/plain": [
       "          kokugo    shakai    sugaku      rika\n",
       "kokugo  1.000000  0.782622  0.718526  0.717996\n",
       "shakai  0.782622  1.000000  0.778242  0.834075\n",
       "sugaku  0.718526  0.778242  1.000000  0.817947\n",
       "rika    0.717996  0.834075  0.817947  1.000000"
      ]
     },
     "execution_count": 100,
     "metadata": {},
     "output_type": "execute_result"
    }
   ],
   "source": [
    "score = pd.read_csv(\"exam_score.csv\", sep=\",\")\n",
    "score.corr(method='pearson')"
   ]
  },
  {
   "cell_type": "markdown",
   "metadata": {},
   "source": [
    "これらの相関係数の大小に基づいて以下のように列間の相関の大小をヒートマップとして可視化することができます。"
   ]
  },
  {
   "cell_type": "code",
   "execution_count": 101,
   "metadata": {},
   "outputs": [
    {
     "data": {
      "image/png": "[encoded data removed]",
      "text/plain": [
       "<matplotlib.figure.Figure at 0x113e54a58>"
      ]
     },
     "metadata": {},
     "output_type": "display_data"
    }
   ],
   "source": [
    "plt.colorbar(plt.imshow(score.corr(method='pearson')));"
   ]
  },
  {
   "cell_type": "code",
   "execution_count": null,
   "metadata": {},
   "outputs": [],
   "source": []
  }
 ],
 "metadata": {
  "kernelspec": {
   "display_name": "Python 3",
   "language": "python",
   "name": "python3"
  },
  "language_info": {
   "codemirror_mode": {
    "name": "ipython",
    "version": 3
   },
   "file_extension": ".py",
   "mimetype": "text/x-python",
   "name": "python",
   "nbconvert_exporter": "python",
   "pygments_lexer": "ipython3",
   "version": "3.5.2"
  }
 },
 "nbformat": 4,
 "nbformat_minor": 2
}
