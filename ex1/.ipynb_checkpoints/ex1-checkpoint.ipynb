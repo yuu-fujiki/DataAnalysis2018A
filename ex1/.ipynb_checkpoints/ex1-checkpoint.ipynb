{
 "cells": [
  {
   "cell_type": "markdown",
   "metadata": {},
   "source": [
    "# 課題1 データの基本的な記述統計の計算\n",
    "データの特徴を指標（統計値）によって記述することを記述統計と呼びます。データ分析の過程で、記述統計は分析対象のデータを観察し、理解するのに用いられます。記述統計により対象データを理解することは、データの前処理（欠損値、外れ値、異常値の処理）の準備にもなります。記述統計および前処理について次回の授業で詳しく説明します。\n",
    "\n",
    "代表的な記述統計に平均があります。平均はデータの中心傾向を記述するための指標で、データが$n$個の数値要素からなる場合、平均は以下のように計算できます。$x_{i}$はデータの要素を表しています。\n",
    "\n",
    "$\\frac{1}{n}\\Sigma^{n}_{i=1}x_{i}$\n",
    "\n",
    "以下では、Pythonの基礎で学んだ内容を元にして、数値データの平均に加えて最大値、最小値を求めるPythonコードを実装します。"
   ]
  },
  {
   "cell_type": "markdown",
   "metadata": {},
   "source": [
    "## Q1\n",
    "0から100までの整数を要素とする任意の長さのリストを引数で入力として受け取り、以下を要素とするリストを返す`avg_max_min`関数を完成させてください。\n",
    "- 入力リストの全ての要素の平均値\n",
    "- 入力リストの全ての要素の中で最大の値\n",
    "- 入力リストの全ての要素の中で最小の値"
   ]
  },
  {
   "cell_type": "code",
   "execution_count": 8,
   "metadata": {},
   "outputs": [],
   "source": [
    "def avg_max_min(input_list):\n",
    "    avg_value=0 # 平均値を初期化\n",
    "    max_value=-1 # 最大値を初期化\n",
    "    min_value= 101 # 最小値を初期化    \n",
    "    sum_value=0 # 要素の和を初期化\n",
    "    results=[] # 結果のリスト\n",
    "    \n",
    "    for v in input_list:\n",
    "        sum_value += v\n",
    "        \n",
    "        if max_value < v:\n",
    "            max_value = v\n",
    "            \n",
    "        if min_value > v:\n",
    "            min_value = v\n",
    "        \n",
    "    avg_value =  sum_value / len(input_list)\n",
    "    results.append(avg_value) \n",
    "    results.append(max_value)\n",
    "    results.append(min_value)\n",
    "    return results    "
   ]
  },
  {
   "cell_type": "markdown",
   "metadata": {},
   "source": [
    "`avg_max_min`関数が完成したら、以下のセルを実行して動作を確認してください。"
   ]
  },
  {
   "cell_type": "code",
   "execution_count": 9,
   "metadata": {},
   "outputs": [
    {
     "data": {
      "text/plain": [
       "[52.8, 95, 29]"
      ]
     },
     "execution_count": 9,
     "metadata": {},
     "output_type": "execute_result"
    }
   ],
   "source": [
    "avg_max_min([30,39,29,95,70,67,29,56,45,68])"
   ]
  },
  {
   "cell_type": "markdown",
   "metadata": {},
   "source": [
    "以下のセルを実行して、実行結果が上記と同じであること確認してください。結果が異なる場合は、作成した`avg_max_min`関数に誤りがないか確認してください。"
   ]
  },
  {
   "cell_type": "code",
   "execution_count": 10,
   "metadata": {},
   "outputs": [
    {
     "data": {
      "text/plain": [
       "[52.8, 95, 29]"
      ]
     },
     "execution_count": 10,
     "metadata": {},
     "output_type": "execute_result"
    }
   ],
   "source": [
    "# avg_max_min関数の結果を検証するための関数\n",
    "def avg_max_min_test(input_list):\n",
    "    return [sum(input_list)/len(input_list), max(input_list), min(input_list)]\n",
    "\n",
    "avg_max_min_test([30,39,29,95,70,67,29,56,45,68])"
   ]
  },
  {
   "cell_type": "markdown",
   "metadata": {},
   "source": [
    "## Q2\n",
    "以下のような形式の\"exam_score.csv\"ファイルを読み込み、教科名をキー、キーの教科の平均値、最大値、最小値のリストを値とする辞書を返す`exam_stat`関数を完成させてください。その際、先に作成した`avg_max_min`関数を利用してください。\n",
    "```Python\n",
    "## exam_score.csvファイル\n",
    "kokugo, shakai, sugaku, rika\n",
    "30, 43, 51, 63\n",
    "39, 21, 49, 56\n",
    "...\n",
    "```"
   ]
  },
  {
   "cell_type": "code",
   "execution_count": 14,
   "metadata": {},
   "outputs": [],
   "source": [
    "import csv\n",
    "import numpy as np\n",
    "\n",
    "def exam_stat():\n",
    "    kokugo_score = [] \n",
    "    shakai_score = []\n",
    "    sugaku_score = [] \n",
    "    rika_score = [] \n",
    "        \n",
    "    score = open('exam_score.csv') # ファイルをオープン\n",
    "    \n",
    "    score_reader = csv.reader(score, delimiter=',', )\n",
    "    \n",
    "    for row in score_reader: # 1行ずつ読み込み\n",
    "        if score_reader.line_num > 1: # 2行以降を処理する\n",
    "            ### 各行の国語の点数, int(row[0]), をkokugo_scoreに追加するコード ###\n",
    "            kokugo_score.append(int(row[0]))\n",
    "            ### 各行の社会の点数, int(row[1]), をshakai_scoreに追加するコード ###\n",
    "            shakai_score.append(int(row[1]))\n",
    "            ### 各行の数学の点数, int(row[2]), をsugaku_scoreに追加するコード ###\n",
    "            sugaku_score.append(int(row[2]))\n",
    "            ### 各行の理科の点数, int(row[3]), をrika_scoreに追加するコード ###\n",
    "            rika_score.append(int(row[3]))\n",
    "    \n",
    "    ### 各教科の点数リストから平均値、最大値、最小値のリストを計算するコードを以下に記入してください ###\n",
    "    kokugo_stat = [np.mean(kokugo_score), np.max(kokugo_score), np.min(kokugo_score)]\n",
    "    shakai_stat =   [np.mean(shakai_score), np.max(shakai_score), np.min(shakai_score)]\n",
    "    sugaku_stat = [np.mean(sugaku_score), np.max(sugaku_score), np.min(sugaku_score)]\n",
    "    rika_stat =  [np.mean(rika_score), np.max(rika_score), np.min(rika_score)]\n",
    "    \n",
    "    results={\"kokugo\":kokugo_stat, \"shakai\":shakai_stat, \"sugaku\":sugaku_stat, \"rika\":rika_stat} # 結果の辞書\n",
    "    return results"
   ]
  },
  {
   "cell_type": "markdown",
   "metadata": {},
   "source": [
    "`exam_stat`関数が完成したら、以下のセルを実行して動作を確認してください。"
   ]
  },
  {
   "cell_type": "code",
   "execution_count": 15,
   "metadata": {},
   "outputs": [
    {
     "data": {
      "text/plain": [
       "{'kokugo': [52.33132530120482, 96, 0],\n",
       " 'rika': [49.8855421686747, 100, 9],\n",
       " 'shakai': [39.602409638554214, 90, 4],\n",
       " 'sugaku': [45.6144578313253, 100, 0]}"
      ]
     },
     "execution_count": 15,
     "metadata": {},
     "output_type": "execute_result"
    }
   ],
   "source": [
    "exam_stat()"
   ]
  },
  {
   "cell_type": "markdown",
   "metadata": {},
   "source": [
    "以下のセルを実行して、実行結果が上記と同じであること確認してください。結果が異なる場合は、作成した`exam_stat`関数に誤りがないか確認してください。"
   ]
  },
  {
   "cell_type": "code",
   "execution_count": 16,
   "metadata": {},
   "outputs": [
    {
     "data": {
      "text/plain": [
       "{'kokugo': [52.33132530120482, 96, 0],\n",
       " 'rika': [49.8855421686747, 100, 9],\n",
       " 'shakai': [39.602409638554214, 90, 4],\n",
       " 'sugaku': [45.6144578313253, 100, 0]}"
      ]
     },
     "execution_count": 16,
     "metadata": {},
     "output_type": "execute_result"
    }
   ],
   "source": [
    "import pandas as pd\n",
    "\n",
    "# exam_stat関数の結果を検証するための関数\n",
    "def exam_stat_test():\n",
    "    score = pd.read_csv('exam_score.csv')\n",
    "    return {\"kokugo\":[score['kokugo'].mean(), score['kokugo'].max(), score['kokugo'].min()],\\\n",
    "                 \"shakai\":[score['shakai'].mean(), score['shakai'].max(), score['shakai'].min()], \\\n",
    "                 \"sugaku\":[score['sugaku'].mean(), score['sugaku'].max(), score['sugaku'].min()],\\\n",
    "                 \"rika\":[score['rika'].mean(), score['rika'].max(), score['rika'].min()]}\n",
    "\n",
    "exam_stat_test()"
   ]
  },
  {
   "cell_type": "code",
   "execution_count": null,
   "metadata": {},
   "outputs": [],
   "source": []
  }
 ],
 "metadata": {
  "kernelspec": {
   "display_name": "Python 3",
   "language": "python",
   "name": "python3"
  },
  "language_info": {
   "codemirror_mode": {
    "name": "ipython",
    "version": 3
   },
   "file_extension": ".py",
   "mimetype": "text/x-python",
   "name": "python",
   "nbconvert_exporter": "python",
   "pygments_lexer": "ipython3",
   "version": "3.5.2"
  }
 },
 "nbformat": 4,
 "nbformat_minor": 2
}
