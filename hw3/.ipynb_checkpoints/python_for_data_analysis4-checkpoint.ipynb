{
 "cells": [
  {
   "cell_type": "markdown",
   "metadata": {},
   "source": [
    "# データマイニング入門\n",
    "# Python基礎"
   ]
  },
  {
   "cell_type": "markdown",
   "metadata": {},
   "source": [
    "## Matplotlibライブラリ\n",
    "**Matplotlib**ライブラリにはグラフを可視化するためのモジュールが含まれています。以下では、Matplotlibライブラリのモジュールを使った、グラフの基本的な描画について説明します。"
   ]
  },
  {
   "cell_type": "markdown",
   "metadata": {},
   "source": [
    "## 線グラフ\n",
    "Matoplotlibライブラリを使用するには、まず`matplotlib`のモジュールをインポートします。ここでは、基本的なグラフを描画するための`matplotlib.pyplot`モジュールをインポートします。慣例として、同モジュールを`plt`と別名をつけてコードの中で使用します。\n",
    "\n",
    "また、グラフで可視化するデータはリストや配列を用いることが多いため、`numpy`モジュールも併せてインポートします。なお、`%matplotlib inline`はjupyter notebook内でグラフを表示するために必要です。\n",
    "\n",
    "\n",
    "`matplotlib`では、通常`show()`関数を呼ぶと描画を行いますが、`inline`表示指定の場合、`show()`関数を省略できます。この時、セルの最後に評価されたオブジェクトの出力表示を抑制するために、以下ではセルの最後の行にセミコロンをつけています。"
   ]
  },
  {
   "cell_type": "code",
   "execution_count": null,
   "metadata": {},
   "outputs": [],
   "source": [
    "import numpy as np\n",
    "import matplotlib.pyplot as plt\n",
    "%matplotlib inline"
   ]
  },
  {
   "cell_type": "markdown",
   "metadata": {},
   "source": [
    "以下では、`pyplot`モジュールの**`plot`**`()`関数を用いて、リストの要素の数値をy軸の値としてグラフを描画しています。y軸の値に対応するx軸の値は、リストの各要素のインデックスとなっています。"
   ]
  },
  {
   "cell_type": "code",
   "execution_count": null,
   "metadata": {},
   "outputs": [],
   "source": [
    "# plotするデータ\n",
    "d =[0, 1, 4, 9, 16]\n",
    "\n",
    "# plot関数で描画\n",
    "plt.plot(d);        "
   ]
  },
  {
   "cell_type": "markdown",
   "metadata": {},
   "source": [
    "`plot()`関数では、x, yの両方の軸の値を引数に渡すこともできます。"
   ]
  },
  {
   "cell_type": "code",
   "execution_count": null,
   "metadata": {},
   "outputs": [],
   "source": [
    "# plotするデータ\n",
    "x =[0, 1, 2, 3, 4]\n",
    "y =[0, 1, 2, 3, 4]\n",
    "\n",
    "# plot関数で描画\n",
    "plt.plot(x,y); "
   ]
  },
  {
   "cell_type": "markdown",
   "metadata": {},
   "source": [
    "以下のようにグラフを複数まとめて表示することもできます。複数のグラフを表示すると、線ごとに異なる色が自動で割り当てられます。`plot()`関数ではグラフの線の色、形状、データポイントのマーカの種類を、それぞれ以下のように`linestyle`, `color`, `marker`引数で指定して変更することができます。それぞれの引数で指定可能な値は以下を参照してください。\n",
    "\n",
    "- [linestyle](https://matplotlib.org/api/_as_gen/matplotlib.lines.Line2D.html#matplotlib.lines.Line2D.set_linestyle)\n",
    "- [color](https://matplotlib.org/api/colors_api.html?highlight=color#module-matplotlib.colors)\n",
    "- [marker](https://matplotlib.org/api/markers_api.html#module-matplotlib.markers)\n",
    "\n",
    "`plot()`関数の`label`引数にグラフの各線の凡例を文字列として渡し、**`legend`**`()`関数を呼ぶことで、グラフ内に凡例を表示できます。`legend()`関数の`loc`引数で凡例を表示する位置を指定することができます。引数で指定可能な値は以下を参照してください。\n",
    "\n",
    "- [lengend()関数](https://matplotlib.org/api/_as_gen/matplotlib.pyplot.legend.html#matplotlib.pyplot.legend)"
   ]
  },
  {
   "cell_type": "code",
   "execution_count": null,
   "metadata": {},
   "outputs": [],
   "source": [
    "# plotするデータ\n",
    "data =[0, 1, 4, 9, 16]\n",
    "x =[0, 1, 2, 3, 4]\n",
    "y =[0, 1, 2, 3, 4]\n",
    "\n",
    "# plot関数で描画。線の形状、色、データポイントのマーカ、凡例を指定\n",
    "plt.plot(x,y, linestyle='--', color='blue', marker='o', label=\"linear\") \n",
    "plt.plot(data, linestyle=':', color='green', marker='*', label=\"quad\")\n",
    "plt.legend();"
   ]
  },
  {
   "cell_type": "markdown",
   "metadata": {},
   "source": [
    "`pyplot`モジュールでは、以下のようにグラフのタイトルと各軸のラベルを指定して表示することができます。タイトル、x軸のラベル、y軸のラベル、はそれぞれ**`title`**`()`関数、**`xlabel`**`()`関数、**`ylabel`**`()`関数に文字列を渡して指定します。また、**`grid`**`()`関数を用いるとグリッドを併せて表示することもできます。グリッドを表示させたい場合は、`grid()`関数に`True`を渡してください。"
   ]
  },
  {
   "cell_type": "code",
   "execution_count": null,
   "metadata": {},
   "outputs": [],
   "source": [
    "# plotするデータ\n",
    "data =[0, 1, 4, 9, 16]\n",
    "x =[0, 1, 2, 3, 4]\n",
    "y =[0, 1, 2, 3, 4]\n",
    "\n",
    "# plot関数で描画。線の形状、色、データポイントのマーカ、凡例を指定\n",
    "plt.plot(x,y, linestyle='--', color='blue', marker='o', label=\"linear\") \n",
    "plt.plot(data, linestyle=':', color='green', marker='*', label=\"quad\")\n",
    "plt.legend()\n",
    "\n",
    "plt.title(\"My First Graph\") # グラフのタイトル\n",
    "plt.xlabel(\"x\") #x軸のラベル\n",
    "plt.ylabel(\"y\") #y軸のラベル\n",
    "plt.grid(True); #グリッドの表示"
   ]
  },
  {
   "cell_type": "markdown",
   "metadata": {},
   "source": [
    "グラフを描画するときのプロット数を増やすことで任意の曲線のグラフを作成することもできます。以下では、`numpy`モジュールの`arange()`関数を用いて、$- \\pi$から$\\pi$の範囲を0.1刻みでx軸の値を配列として準備しています。そのx軸の値に対して、`numpy`モジュールの`cos()`関数と`sin()`関数を用いて、y軸の値をそれぞれ準備し、`cos`カーブと`sin`カーブを描画しています。"
   ]
  },
  {
   "cell_type": "code",
   "execution_count": null,
   "metadata": {},
   "outputs": [],
   "source": [
    "#　グラフのx軸の値となる配列\n",
    "x = np.arange(-np.pi, np.pi, 0.1)\n",
    "\n",
    "# 上記配列をcos, sin関数に渡し, y軸の値として描画\n",
    "plt.plot(x,np.cos(x))\n",
    "plt.plot(x,np.sin(x))\n",
    "\n",
    "plt.title(\"cos ans sin Curves\")  # グラフのタイトル\n",
    "plt.xlabel(\"x\") #x軸のラベル\n",
    "plt.ylabel(\"y\") #y軸のラベル\n",
    "plt.grid(True); #グリッドの表示"
   ]
  },
  {
   "cell_type": "markdown",
   "metadata": {},
   "source": [
    "プロットの数を少なくすると、曲線は直線をつなぎ合わせることで描画されるていることがわかります。"
   ]
  },
  {
   "cell_type": "code",
   "execution_count": null,
   "metadata": {},
   "outputs": [],
   "source": [
    "x = np.arange(-np.pi, np.pi, 0.5)\n",
    "plt.plot(x,np.cos(x), marker='o')\n",
    "plt.plot(x,np.sin(x), marker='o')\n",
    "plt.title(\"cos ans sin Curves\")\n",
    "plt.xlabel(\"x\")\n",
    "plt.ylabel(\"y\")\n",
    "plt.grid(True);"
   ]
  },
  {
   "cell_type": "markdown",
   "metadata": {},
   "source": [
    "## 散布図\n",
    "散布図は、`pyplot`モジュールの**`scatter`**`()`関数を用いて描画できます。以下では、ランダムに生成した20個の要素からなる配列x,yの各要素の値の組みを点としてプロットした散布図を表示しています。プロットする点のマーカーの色や形状は、線グラフの時と同様に、 `color`, `marker`引数で指定して変更することができます。加えて、`s`, `alpha`引数で、それぞれマーカーの大きさと透明度を指定することができます。"
   ]
  },
  {
   "cell_type": "code",
   "execution_count": null,
   "metadata": {},
   "outputs": [],
   "source": [
    "#　グラフのx軸の値となる配列\n",
    "x = np.random.rand(20)\n",
    "#　グラフのy軸の値となる配列\n",
    "y = np.random.rand(20)\n",
    "\n",
    "# scatter関数で散布図を描画\n",
    "plt.scatter(x, y, s=100, alpha=0.5);"
   ]
  },
  {
   "cell_type": "markdown",
   "metadata": {},
   "source": [
    "以下のように、`plot()`関数を用いても同様の散布図を表示することができます。この時、`plot()`関数では、プロットする点のマーカーの形状を引数に指定しています。"
   ]
  },
  {
   "cell_type": "code",
   "execution_count": null,
   "metadata": {},
   "outputs": [],
   "source": [
    "x = np.random.rand(20)\n",
    "y = np.random.rand(20)\n",
    "plt.plot(x, y, 'o', color='blue');"
   ]
  },
  {
   "cell_type": "markdown",
   "metadata": {},
   "source": [
    "## 棒グラフ\n",
    "棒グラフは、`pyplot`モジュールの**`bar`**`()`関数を用いて描画できます。以下では、ランダムに生成した10個の要素からなる配列`y`の各要素の値を縦の棒グラフで表示しています。`x`は、x軸上で棒グラフのバーの並ぶ位置を示しています。ここでは、`numpy`モジュールの`arange()`関数を用いて、1から10の範囲を1刻みでx軸上のバーの並ぶ位置として配列を準備しています。"
   ]
  },
  {
   "cell_type": "code",
   "execution_count": null,
   "metadata": {},
   "outputs": [],
   "source": [
    "# x軸上で棒の並ぶ位置となる配列\n",
    "x = np.arange(1, 11, 1)\n",
    "#　グラフのy軸の値となる配列\n",
    "y = np.random.rand(10)\n",
    "\n",
    "# bar関数で棒グラフを描画\n",
    "plt.bar(x,y);"
   ]
  },
  {
   "cell_type": "markdown",
   "metadata": {},
   "source": [
    "## ヒストグラム\n",
    "ヒストグラムは、`pyplot`モジュールの**`hist`**`()`関数を用いて描画できます。以下では、`numpy`モジュールの`random.randn()`関数を用いて、正規分布に基づく1000個の数値の要素からなる配列を用意し、ヒストグラムとして表示しています。`hist()`関数の`bins`引数でヒストグラムの箱（ビン）の数を指定します。"
   ]
  },
  {
   "cell_type": "code",
   "execution_count": null,
   "metadata": {},
   "outputs": [],
   "source": [
    "# 正規分布に基づく1000個の数値の要素からなる配列 \n",
    "d = np.random.randn(1000)\n",
    "\n",
    "# hist関数でヒストグラムを描画\n",
    "plt.hist(d, bins=20);"
   ]
  },
  {
   "cell_type": "markdown",
   "metadata": {},
   "source": [
    "## ヒートマップ\n",
    "`impshow()`関数を用いると、以下のように行列の要素の値に応じて色の濃淡を変えることで、行列をヒートマップとして可視化することができます。`colorbar()`関数は行列の値と色の濃淡の対応を表示します。"
   ]
  },
  {
   "cell_type": "code",
   "execution_count": null,
   "metadata": {},
   "outputs": [],
   "source": [
    "# 10行10列のランダム要素からなる行列\n",
    "a = np.random.rand(100).reshape(10,10)\n",
    "\n",
    "# imshow関数でヒートマップを描画\n",
    "im=plt.imshow(a)\n",
    "plt.colorbar(im);"
   ]
  },
  {
   "cell_type": "markdown",
   "metadata": {},
   "source": [
    "## グラフの画像ファイル出力\n",
    "**`savefig`**`()`関数を用いると、以下のように作成したグラフを画像としてファイルに保存することができます。"
   ]
  },
  {
   "cell_type": "code",
   "execution_count": null,
   "metadata": {},
   "outputs": [],
   "source": [
    "x = np.arange(-np.pi, np.pi, 0.1)\n",
    "plt.plot(x,np.cos(x), label='cos')\n",
    "plt.plot(x,np.sin(x), label='sin')\n",
    "plt.legend()\n",
    "plt.title(\"cos ans sin Curves\")  \n",
    "plt.xlabel(\"x\") \n",
    "plt.ylabel(\"y\") \n",
    "plt.grid(True)\n",
    "\n",
    "# savefig関数でグラフを画像保存\n",
    "plt.savefig('cos_sin.png'); "
   ]
  }
 ],
 "metadata": {
  "kernelspec": {
   "display_name": "Python 3",
   "language": "python",
   "name": "python3"
  },
  "language_info": {
   "codemirror_mode": {
    "name": "ipython",
    "version": 3
   },
   "file_extension": ".py",
   "mimetype": "text/x-python",
   "name": "python",
   "nbconvert_exporter": "python",
   "pygments_lexer": "ipython3",
   "version": "3.6.4"
  }
 },
 "nbformat": 4,
 "nbformat_minor": 2
}
